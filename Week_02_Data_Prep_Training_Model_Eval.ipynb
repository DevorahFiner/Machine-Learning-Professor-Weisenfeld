{
 "cells": [
  {
   "cell_type": "code",
   "execution_count": 1,
   "id": "bad9d7ab",
   "metadata": {
    "slideshow": {
     "slide_type": "skip"
    }
   },
   "outputs": [],
   "source": [
    "import numpy as np, pandas as pd, seaborn as sns, matplotlib.pyplot as plt\n",
    "sns.set()\n",
    "sns.set_style(\"darkgrid\")"
   ]
  },
  {
   "cell_type": "markdown",
   "id": "914218d0",
   "metadata": {
    "slideshow": {
     "slide_type": "slide"
    }
   },
   "source": [
    "# Welcome to Machine Learning - Week 2\n",
    "Instructor - Daniel Wiesenfeld"
   ]
  },
  {
   "cell_type": "markdown",
   "id": "2244b588",
   "metadata": {
    "slideshow": {
     "slide_type": "subslide"
    }
   },
   "source": [
    "**Today's Lecture:**\n",
    "- Encoding non numeric data\n",
    "- Standardization & Scaling\n",
    "- Variance-Bias Tradeoff / Overfitting & Underfitting\n",
    "- Dimensionality Reduction & Feature Selection\n",
    "- Train/Test Splits & Cross Validation"
   ]
  },
  {
   "cell_type": "markdown",
   "id": "1460a5f9",
   "metadata": {
    "slideshow": {
     "slide_type": "slide"
    }
   },
   "source": [
    "## Encoding Data\n",
    "ML Models need numbers to work. Raw text, dates, and other data types need to be encoded\n",
    "\n",
    "You need to be aware of these four data types:\n",
    "\n",
    "### Data Types\n",
    "- Ratio Data\n",
    "- Interval Data\n",
    "- Ordinal Data\n",
    "- Categorical Data\n",
    "\n",
    "Another data type that can be either Interval or Ordinal is:\n",
    "- Cyclic Data"
   ]
  },
  {
   "cell_type": "markdown",
   "id": "19fe6a8b",
   "metadata": {
    "slideshow": {
     "slide_type": "subslide"
    }
   },
   "source": [
    "#### Ratio Data\n",
    "\n",
    "- Ratio data is numeric data with a True 0\n",
    "- Any math done on Ratio data is valid (it's called ratio because ratios are valid, e.g. can say one value is half of another). \n",
    "- Most real world measurements, amounts, etc. are ratio data\n",
    "- Examples: height, weight, bank balance\n",
    "- Ratio Data can be used as is"
   ]
  },
  {
   "cell_type": "markdown",
   "id": "eab6afdf",
   "metadata": {
    "slideshow": {
     "slide_type": "subslide"
    }
   },
   "source": [
    "#### Interval Data\n",
    "\n",
    "- Interval data is numeric data with no true 0 point\n",
    "- Can do addition and subtraction, but not multiplication, devision or others\n",
    "- Called interval because only the distance between values matter (and the direction), not the values themselves\n",
    "- Examples: temperature (except Kelvin), dates\n",
    "- Generally interval data can be used as is, but keep in mind what it is when doing transformations"
   ]
  },
  {
   "cell_type": "markdown",
   "id": "57f45948",
   "metadata": {
    "slideshow": {
     "slide_type": "subslide"
    }
   },
   "source": [
    "#### Ordinal Data\n",
    "\n",
    "- Ordinal data has a defined order, but not a quantifiable difference between values\n",
    "- It is valid to say that one value is greater than equal to or less than another value, but other than that no math is valid\n",
    "- Examples include level of education (high school, college, masters), olympic medals (bronze, silver, gold), etc.\n",
    "- These need to be encoded as numbers to be used in a model.\n",
    "\n",
    "How would you classify the number of stars a product has on Amazon? Interval, Ordinal, Ratio - why?"
   ]
  },
  {
   "cell_type": "markdown",
   "id": "b16a691b",
   "metadata": {
    "slideshow": {
     "slide_type": "subslide"
    }
   },
   "source": [
    "#### Categorical (Nominal) Data\n",
    "\n",
    "- Categorical data has no associated quantitative value.\n",
    "- The only valid mathematical operations between values are testing for equality or inequality\n",
    "- Examples: color, type of car, male or female, etc.\n",
    "- These need to be encoded as numbers to be used in a model.\n",
    "\n",
    "How would you classify T shirt size - small, medium, large, XL, etc? (does how you're using the data matter?)"
   ]
  },
  {
   "cell_type": "markdown",
   "id": "69e58e12",
   "metadata": {
    "slideshow": {
     "slide_type": "subslide"
    }
   },
   "source": [
    "#### Cyclic Data\n",
    "\n",
    "- Cyclic Data is data that represents a repeating cycle.\n",
    "- The data can be interval (quantity of distance betweeen points is meaningful) or ordinal (just the cyclic order matters)\n",
    "- Examples: days of week, time of day, month of year\n",
    "- These are sometimes treated as regular ordinal or interval data points, but there is a potentially better way to encode.\n",
    "\n",
    "When might it make sense to ignore the cyclic nature of a field?"
   ]
  },
  {
   "cell_type": "markdown",
   "id": "c368328a",
   "metadata": {
    "slideshow": {
     "slide_type": "slide"
    }
   },
   "source": [
    "### Encoding Methods\n",
    "- Integer\n",
    "- One Hot\n",
    "- Ordinal"
   ]
  },
  {
   "cell_type": "markdown",
   "id": "4d7eb737",
   "metadata": {
    "slideshow": {
     "slide_type": "subslide"
    }
   },
   "source": [
    "#### Integer/Ordinal Encoding:\n",
    "- Map every value in ordinal or categorical field to an integer\n",
    "- e.g. {small, medium, large} $\\rightarrow$ {0, 1, 2}\n",
    "- pros: \n",
    "    - simple\n",
    "    - does not add features\n",
    "- cons\n",
    "    - mapping to integers imposes both an order (not a problem for ordinal) and a value, which may not be true\n",
    "    - the specific numbers mapped to categories and can impact the way your model works\n",
    "- this method is generally better for ordinal than for categorical"
   ]
  },
  {
   "cell_type": "code",
   "execution_count": 24,
   "id": "434f28f1",
   "metadata": {
    "slideshow": {
     "slide_type": "subslide"
    }
   },
   "outputs": [
    {
     "data": {
      "text/html": [
       "<style type=\"text/css\">\n",
       "#T_ffb95 th {\n",
       "  text-align: center;\n",
       "}\n",
       "</style>\n",
       "<table id=\"T_ffb95\">\n",
       "  <thead>\n",
       "    <tr>\n",
       "      <th id=\"T_ffb95_level0_col0\" class=\"col_heading level0 col0\" >Original</th>\n",
       "      <th id=\"T_ffb95_level0_col1\" class=\"col_heading level0 col1\" ></th>\n",
       "      <th id=\"T_ffb95_level0_col2\" class=\"col_heading level0 col2\" >Integer Encoded</th>\n",
       "    </tr>\n",
       "    <tr>\n",
       "      <th id=\"T_ffb95_level1_col0\" class=\"col_heading level1 col0\" >size</th>\n",
       "      <th id=\"T_ffb95_level1_col1\" class=\"col_heading level1 col1\" ></th>\n",
       "      <th id=\"T_ffb95_level1_col2\" class=\"col_heading level1 col2\" >size</th>\n",
       "    </tr>\n",
       "  </thead>\n",
       "  <tbody>\n",
       "    <tr>\n",
       "      <td id=\"T_ffb95_row0_col0\" class=\"data row0 col0\" >small</td>\n",
       "      <td id=\"T_ffb95_row0_col1\" class=\"data row0 col1\" >→</td>\n",
       "      <td id=\"T_ffb95_row0_col2\" class=\"data row0 col2\" >0</td>\n",
       "    </tr>\n",
       "    <tr>\n",
       "      <td id=\"T_ffb95_row1_col0\" class=\"data row1 col0\" >medium</td>\n",
       "      <td id=\"T_ffb95_row1_col1\" class=\"data row1 col1\" >→</td>\n",
       "      <td id=\"T_ffb95_row1_col2\" class=\"data row1 col2\" >1</td>\n",
       "    </tr>\n",
       "    <tr>\n",
       "      <td id=\"T_ffb95_row2_col0\" class=\"data row2 col0\" >large</td>\n",
       "      <td id=\"T_ffb95_row2_col1\" class=\"data row2 col1\" >→</td>\n",
       "      <td id=\"T_ffb95_row2_col2\" class=\"data row2 col2\" >2</td>\n",
       "    </tr>\n",
       "  </tbody>\n",
       "</table>\n"
      ],
      "text/plain": [
       "<pandas.io.formats.style.Styler at 0x1f31008b520>"
      ]
     },
     "execution_count": 24,
     "metadata": {},
     "output_type": "execute_result"
    }
   ],
   "source": [
    "pd.DataFrame({('Original', 'size'): ['small', 'medium', 'large'], ('', ''): ['\\u2192', '\\u2192', '\\u2192'], ('Integer Encoded', 'size'): [0, 1, 2]}).style\\\n",
    "    .hide(axis=\"index\").set_table_styles([dict(selector=\"th\", props=[(\"text-align\", \"center\")])])"
   ]
  },
  {
   "cell_type": "markdown",
   "id": "f5484f76",
   "metadata": {
    "slideshow": {
     "slide_type": "subslide"
    }
   },
   "source": [
    "How to do this in Scikit-learn:"
   ]
  },
  {
   "cell_type": "code",
   "execution_count": 3,
   "id": "323d5a3d",
   "metadata": {
    "slideshow": {
     "slide_type": "fragment"
    }
   },
   "outputs": [
    {
     "data": {
      "text/html": [
       "<style type=\"text/css\">\n",
       "</style>\n",
       "<table id=\"T_242ba\">\n",
       "  <thead>\n",
       "    <tr>\n",
       "      <th id=\"T_242ba_level0_col0\" class=\"col_heading level0 col0\" >size</th>\n",
       "      <th id=\"T_242ba_level0_col1\" class=\"col_heading level0 col1\" >color</th>\n",
       "      <th id=\"T_242ba_level0_col2\" class=\"col_heading level0 col2\" ></th>\n",
       "      <th id=\"T_242ba_level0_col3\" class=\"col_heading level0 col3\" >size</th>\n",
       "      <th id=\"T_242ba_level0_col4\" class=\"col_heading level0 col4\" >color</th>\n",
       "    </tr>\n",
       "  </thead>\n",
       "  <tbody>\n",
       "    <tr>\n",
       "      <td id=\"T_242ba_row0_col0\" class=\"data row0 col0\" >small</td>\n",
       "      <td id=\"T_242ba_row0_col1\" class=\"data row0 col1\" >red</td>\n",
       "      <td id=\"T_242ba_row0_col2\" class=\"data row0 col2\" >→</td>\n",
       "      <td id=\"T_242ba_row0_col3\" class=\"data row0 col3\" >2</td>\n",
       "      <td id=\"T_242ba_row0_col4\" class=\"data row0 col4\" >1</td>\n",
       "    </tr>\n",
       "    <tr>\n",
       "      <td id=\"T_242ba_row1_col0\" class=\"data row1 col0\" >medium</td>\n",
       "      <td id=\"T_242ba_row1_col1\" class=\"data row1 col1\" >blue</td>\n",
       "      <td id=\"T_242ba_row1_col2\" class=\"data row1 col2\" >→</td>\n",
       "      <td id=\"T_242ba_row1_col3\" class=\"data row1 col3\" >1</td>\n",
       "      <td id=\"T_242ba_row1_col4\" class=\"data row1 col4\" >0</td>\n",
       "    </tr>\n",
       "    <tr>\n",
       "      <td id=\"T_242ba_row2_col0\" class=\"data row2 col0\" >small</td>\n",
       "      <td id=\"T_242ba_row2_col1\" class=\"data row2 col1\" >blue</td>\n",
       "      <td id=\"T_242ba_row2_col2\" class=\"data row2 col2\" >→</td>\n",
       "      <td id=\"T_242ba_row2_col3\" class=\"data row2 col3\" >2</td>\n",
       "      <td id=\"T_242ba_row2_col4\" class=\"data row2 col4\" >0</td>\n",
       "    </tr>\n",
       "    <tr>\n",
       "      <td id=\"T_242ba_row3_col0\" class=\"data row3 col0\" >large</td>\n",
       "      <td id=\"T_242ba_row3_col1\" class=\"data row3 col1\" >blue</td>\n",
       "      <td id=\"T_242ba_row3_col2\" class=\"data row3 col2\" >→</td>\n",
       "      <td id=\"T_242ba_row3_col3\" class=\"data row3 col3\" >0</td>\n",
       "      <td id=\"T_242ba_row3_col4\" class=\"data row3 col4\" >0</td>\n",
       "    </tr>\n",
       "    <tr>\n",
       "      <td id=\"T_242ba_row4_col0\" class=\"data row4 col0\" >large</td>\n",
       "      <td id=\"T_242ba_row4_col1\" class=\"data row4 col1\" >red</td>\n",
       "      <td id=\"T_242ba_row4_col2\" class=\"data row4 col2\" >→</td>\n",
       "      <td id=\"T_242ba_row4_col3\" class=\"data row4 col3\" >0</td>\n",
       "      <td id=\"T_242ba_row4_col4\" class=\"data row4 col4\" >1</td>\n",
       "    </tr>\n",
       "  </tbody>\n",
       "</table>\n"
      ],
      "text/plain": [
       "<pandas.io.formats.style.Styler at 0x1f30e29f2e0>"
      ]
     },
     "execution_count": 3,
     "metadata": {},
     "output_type": "execute_result"
    }
   ],
   "source": [
    "from sklearn.preprocessing import OrdinalEncoder\n",
    "\n",
    "df = pd.DataFrame({'size': ['small', 'medium', 'small', 'large', 'large'],\n",
    "                   'color': ['red', 'blue', 'blue', 'blue', 'red']})\n",
    "\n",
    "encoder = OrdinalEncoder()\n",
    "encoder.fit(df)\n",
    "\n",
    "pd.DataFrame(columns = np.hstack((df.columns,[\"\"] , encoder.get_feature_names_out())), \n",
    "             data = np.hstack((df, [['\\u2192']]*5, encoder.transform(df).astype(int)))\n",
    ").style.hide(axis=\"index\")"
   ]
  },
  {
   "cell_type": "markdown",
   "id": "c40287a4",
   "metadata": {
    "slideshow": {
     "slide_type": "subslide"
    }
   },
   "source": [
    "#### One-Hot Encoding:\n",
    "- create a binary {1, 0} feature for each value of the ordinal or categorical field\n",
    "- Pros: \n",
    "    - does not impose any numerical value assumptions\n",
    "    - order of values does not matter (good for categorical)\n",
    "- Cons:\n",
    "    - adds many more features\n",
    "    - loses order (potential problem for ordinal values)"
   ]
  },
  {
   "cell_type": "code",
   "execution_count": 4,
   "id": "cd25aa9f",
   "metadata": {
    "slideshow": {
     "slide_type": "subslide"
    }
   },
   "outputs": [
    {
     "data": {
      "text/html": [
       "<style type=\"text/css\">\n",
       "#T_817d5 th {\n",
       "  text-align: center;\n",
       "}\n",
       "</style>\n",
       "<table id=\"T_817d5\">\n",
       "  <thead>\n",
       "    <tr>\n",
       "      <th id=\"T_817d5_level0_col0\" class=\"col_heading level0 col0\" >Original</th>\n",
       "      <th id=\"T_817d5_level0_col1\" class=\"col_heading level0 col1\" ></th>\n",
       "      <th id=\"T_817d5_level0_col2\" class=\"col_heading level0 col2\" colspan=\"3\">One-Hot Encoded</th>\n",
       "    </tr>\n",
       "    <tr>\n",
       "      <th id=\"T_817d5_level1_col0\" class=\"col_heading level1 col0\" >size</th>\n",
       "      <th id=\"T_817d5_level1_col1\" class=\"col_heading level1 col1\" ></th>\n",
       "      <th id=\"T_817d5_level1_col2\" class=\"col_heading level1 col2\" >small</th>\n",
       "      <th id=\"T_817d5_level1_col3\" class=\"col_heading level1 col3\" >medium</th>\n",
       "      <th id=\"T_817d5_level1_col4\" class=\"col_heading level1 col4\" >large</th>\n",
       "    </tr>\n",
       "  </thead>\n",
       "  <tbody>\n",
       "    <tr>\n",
       "      <td id=\"T_817d5_row0_col0\" class=\"data row0 col0\" >small</td>\n",
       "      <td id=\"T_817d5_row0_col1\" class=\"data row0 col1\" >→</td>\n",
       "      <td id=\"T_817d5_row0_col2\" class=\"data row0 col2\" >1</td>\n",
       "      <td id=\"T_817d5_row0_col3\" class=\"data row0 col3\" >0</td>\n",
       "      <td id=\"T_817d5_row0_col4\" class=\"data row0 col4\" >0</td>\n",
       "    </tr>\n",
       "    <tr>\n",
       "      <td id=\"T_817d5_row1_col0\" class=\"data row1 col0\" >medium</td>\n",
       "      <td id=\"T_817d5_row1_col1\" class=\"data row1 col1\" >→</td>\n",
       "      <td id=\"T_817d5_row1_col2\" class=\"data row1 col2\" >0</td>\n",
       "      <td id=\"T_817d5_row1_col3\" class=\"data row1 col3\" >1</td>\n",
       "      <td id=\"T_817d5_row1_col4\" class=\"data row1 col4\" >0</td>\n",
       "    </tr>\n",
       "    <tr>\n",
       "      <td id=\"T_817d5_row2_col0\" class=\"data row2 col0\" >large</td>\n",
       "      <td id=\"T_817d5_row2_col1\" class=\"data row2 col1\" >→</td>\n",
       "      <td id=\"T_817d5_row2_col2\" class=\"data row2 col2\" >0</td>\n",
       "      <td id=\"T_817d5_row2_col3\" class=\"data row2 col3\" >0</td>\n",
       "      <td id=\"T_817d5_row2_col4\" class=\"data row2 col4\" >1</td>\n",
       "    </tr>\n",
       "  </tbody>\n",
       "</table>\n"
      ],
      "text/plain": [
       "<pandas.io.formats.style.Styler at 0x1f30eb8f760>"
      ]
     },
     "execution_count": 4,
     "metadata": {},
     "output_type": "execute_result"
    }
   ],
   "source": [
    "pd.DataFrame({('Original', 'size'): ['small', 'medium', 'large'], \n",
    "              ('', ''): ['\\u2192', '\\u2192', '\\u2192'],\n",
    "              ('One-Hot Encoded', 'small'): [1, 0, 0], \n",
    "              ('One-Hot Encoded', 'medium'): [0, 1, 0], \n",
    "              ('One-Hot Encoded', 'large'): [0, 0, 1]}).style\\\n",
    "    .hide(axis=\"index\")\\\n",
    "    .set_table_styles([dict(selector=\"th\", props=[(\"text-align\", \"center\")])])"
   ]
  },
  {
   "cell_type": "markdown",
   "id": "04930f79",
   "metadata": {
    "slideshow": {
     "slide_type": "subslide"
    }
   },
   "source": [
    "#### Can we drop a column in One-Hot Encoding?"
   ]
  },
  {
   "cell_type": "code",
   "execution_count": 5,
   "id": "c8b733e7",
   "metadata": {
    "slideshow": {
     "slide_type": "fragment"
    }
   },
   "outputs": [
    {
     "data": {
      "text/html": [
       "<style type=\"text/css\">\n",
       "#T_976b2 th {\n",
       "  text-align: center;\n",
       "}\n",
       "</style>\n",
       "<table id=\"T_976b2\">\n",
       "  <thead>\n",
       "    <tr>\n",
       "      <th id=\"T_976b2_level0_col0\" class=\"col_heading level0 col0\" >Original</th>\n",
       "      <th id=\"T_976b2_level0_col1\" class=\"col_heading level0 col1\" ></th>\n",
       "      <th id=\"T_976b2_level0_col2\" class=\"col_heading level0 col2\" colspan=\"2\">One-Hot Encoded</th>\n",
       "    </tr>\n",
       "    <tr>\n",
       "      <th id=\"T_976b2_level1_col0\" class=\"col_heading level1 col0\" >size</th>\n",
       "      <th id=\"T_976b2_level1_col1\" class=\"col_heading level1 col1\" ></th>\n",
       "      <th id=\"T_976b2_level1_col2\" class=\"col_heading level1 col2\" >medium</th>\n",
       "      <th id=\"T_976b2_level1_col3\" class=\"col_heading level1 col3\" >large</th>\n",
       "    </tr>\n",
       "  </thead>\n",
       "  <tbody>\n",
       "    <tr>\n",
       "      <td id=\"T_976b2_row0_col0\" class=\"data row0 col0\" >small</td>\n",
       "      <td id=\"T_976b2_row0_col1\" class=\"data row0 col1\" >→</td>\n",
       "      <td id=\"T_976b2_row0_col2\" class=\"data row0 col2\" >0</td>\n",
       "      <td id=\"T_976b2_row0_col3\" class=\"data row0 col3\" >0</td>\n",
       "    </tr>\n",
       "    <tr>\n",
       "      <td id=\"T_976b2_row1_col0\" class=\"data row1 col0\" >medium</td>\n",
       "      <td id=\"T_976b2_row1_col1\" class=\"data row1 col1\" >→</td>\n",
       "      <td id=\"T_976b2_row1_col2\" class=\"data row1 col2\" >1</td>\n",
       "      <td id=\"T_976b2_row1_col3\" class=\"data row1 col3\" >0</td>\n",
       "    </tr>\n",
       "    <tr>\n",
       "      <td id=\"T_976b2_row2_col0\" class=\"data row2 col0\" >large</td>\n",
       "      <td id=\"T_976b2_row2_col1\" class=\"data row2 col1\" >→</td>\n",
       "      <td id=\"T_976b2_row2_col2\" class=\"data row2 col2\" >0</td>\n",
       "      <td id=\"T_976b2_row2_col3\" class=\"data row2 col3\" >1</td>\n",
       "    </tr>\n",
       "  </tbody>\n",
       "</table>\n"
      ],
      "text/plain": [
       "<pandas.io.formats.style.Styler at 0x1f30eb8f280>"
      ]
     },
     "execution_count": 5,
     "metadata": {},
     "output_type": "execute_result"
    }
   ],
   "source": [
    "pd.DataFrame({('Original', 'size'): ['small', 'medium', 'large'], \n",
    "              ('', ''): ['\\u2192', '\\u2192', '\\u2192'],\n",
    "              ('One-Hot Encoded', 'medium'): [0, 1, 0], \n",
    "              ('One-Hot Encoded', 'large'): [0, 0, 1]}).style\\\n",
    "    .hide(axis=\"index\")\\\n",
    "    .set_table_styles([dict(selector=\"th\", props=[(\"text-align\", \"center\")])])"
   ]
  },
  {
   "cell_type": "markdown",
   "id": "2381c7ed",
   "metadata": {
    "slideshow": {
     "slide_type": "fragment"
    }
   },
   "source": [
    "There is still enough information in the table above to distinguish between each unique class, so we don't technically need all three columns. Generally, if there are $c$ categories, we need $c-1$ columns to one-hot encode it.\n",
    "\n",
    "When is it a good idea to drop an extra column, and when is it a good idea not to?"
   ]
  },
  {
   "cell_type": "markdown",
   "id": "4540cca4",
   "metadata": {
    "slideshow": {
     "slide_type": "subslide"
    }
   },
   "source": [
    "#### How to do One-Hot Enoding in Scikit-learn:"
   ]
  },
  {
   "cell_type": "code",
   "execution_count": 6,
   "id": "ac4587b6",
   "metadata": {
    "slideshow": {
     "slide_type": "fragment"
    }
   },
   "outputs": [
    {
     "data": {
      "text/html": [
       "<style type=\"text/css\">\n",
       "</style>\n",
       "<table id=\"T_bc3b6\">\n",
       "  <thead>\n",
       "    <tr>\n",
       "      <th id=\"T_bc3b6_level0_col0\" class=\"col_heading level0 col0\" >size</th>\n",
       "      <th id=\"T_bc3b6_level0_col1\" class=\"col_heading level0 col1\" >color</th>\n",
       "      <th id=\"T_bc3b6_level0_col2\" class=\"col_heading level0 col2\" ></th>\n",
       "      <th id=\"T_bc3b6_level0_col3\" class=\"col_heading level0 col3\" >size_large</th>\n",
       "      <th id=\"T_bc3b6_level0_col4\" class=\"col_heading level0 col4\" >size_medium</th>\n",
       "      <th id=\"T_bc3b6_level0_col5\" class=\"col_heading level0 col5\" >size_small</th>\n",
       "      <th id=\"T_bc3b6_level0_col6\" class=\"col_heading level0 col6\" >color_blue</th>\n",
       "      <th id=\"T_bc3b6_level0_col7\" class=\"col_heading level0 col7\" >color_red</th>\n",
       "    </tr>\n",
       "  </thead>\n",
       "  <tbody>\n",
       "    <tr>\n",
       "      <td id=\"T_bc3b6_row0_col0\" class=\"data row0 col0\" >small</td>\n",
       "      <td id=\"T_bc3b6_row0_col1\" class=\"data row0 col1\" >red</td>\n",
       "      <td id=\"T_bc3b6_row0_col2\" class=\"data row0 col2\" >→</td>\n",
       "      <td id=\"T_bc3b6_row0_col3\" class=\"data row0 col3\" >0</td>\n",
       "      <td id=\"T_bc3b6_row0_col4\" class=\"data row0 col4\" >0</td>\n",
       "      <td id=\"T_bc3b6_row0_col5\" class=\"data row0 col5\" >1</td>\n",
       "      <td id=\"T_bc3b6_row0_col6\" class=\"data row0 col6\" >0</td>\n",
       "      <td id=\"T_bc3b6_row0_col7\" class=\"data row0 col7\" >1</td>\n",
       "    </tr>\n",
       "    <tr>\n",
       "      <td id=\"T_bc3b6_row1_col0\" class=\"data row1 col0\" >medium</td>\n",
       "      <td id=\"T_bc3b6_row1_col1\" class=\"data row1 col1\" >blue</td>\n",
       "      <td id=\"T_bc3b6_row1_col2\" class=\"data row1 col2\" >→</td>\n",
       "      <td id=\"T_bc3b6_row1_col3\" class=\"data row1 col3\" >0</td>\n",
       "      <td id=\"T_bc3b6_row1_col4\" class=\"data row1 col4\" >1</td>\n",
       "      <td id=\"T_bc3b6_row1_col5\" class=\"data row1 col5\" >0</td>\n",
       "      <td id=\"T_bc3b6_row1_col6\" class=\"data row1 col6\" >1</td>\n",
       "      <td id=\"T_bc3b6_row1_col7\" class=\"data row1 col7\" >0</td>\n",
       "    </tr>\n",
       "    <tr>\n",
       "      <td id=\"T_bc3b6_row2_col0\" class=\"data row2 col0\" >small</td>\n",
       "      <td id=\"T_bc3b6_row2_col1\" class=\"data row2 col1\" >blue</td>\n",
       "      <td id=\"T_bc3b6_row2_col2\" class=\"data row2 col2\" >→</td>\n",
       "      <td id=\"T_bc3b6_row2_col3\" class=\"data row2 col3\" >0</td>\n",
       "      <td id=\"T_bc3b6_row2_col4\" class=\"data row2 col4\" >0</td>\n",
       "      <td id=\"T_bc3b6_row2_col5\" class=\"data row2 col5\" >1</td>\n",
       "      <td id=\"T_bc3b6_row2_col6\" class=\"data row2 col6\" >1</td>\n",
       "      <td id=\"T_bc3b6_row2_col7\" class=\"data row2 col7\" >0</td>\n",
       "    </tr>\n",
       "    <tr>\n",
       "      <td id=\"T_bc3b6_row3_col0\" class=\"data row3 col0\" >large</td>\n",
       "      <td id=\"T_bc3b6_row3_col1\" class=\"data row3 col1\" >blue</td>\n",
       "      <td id=\"T_bc3b6_row3_col2\" class=\"data row3 col2\" >→</td>\n",
       "      <td id=\"T_bc3b6_row3_col3\" class=\"data row3 col3\" >1</td>\n",
       "      <td id=\"T_bc3b6_row3_col4\" class=\"data row3 col4\" >0</td>\n",
       "      <td id=\"T_bc3b6_row3_col5\" class=\"data row3 col5\" >0</td>\n",
       "      <td id=\"T_bc3b6_row3_col6\" class=\"data row3 col6\" >1</td>\n",
       "      <td id=\"T_bc3b6_row3_col7\" class=\"data row3 col7\" >0</td>\n",
       "    </tr>\n",
       "    <tr>\n",
       "      <td id=\"T_bc3b6_row4_col0\" class=\"data row4 col0\" >large</td>\n",
       "      <td id=\"T_bc3b6_row4_col1\" class=\"data row4 col1\" >red</td>\n",
       "      <td id=\"T_bc3b6_row4_col2\" class=\"data row4 col2\" >→</td>\n",
       "      <td id=\"T_bc3b6_row4_col3\" class=\"data row4 col3\" >1</td>\n",
       "      <td id=\"T_bc3b6_row4_col4\" class=\"data row4 col4\" >0</td>\n",
       "      <td id=\"T_bc3b6_row4_col5\" class=\"data row4 col5\" >0</td>\n",
       "      <td id=\"T_bc3b6_row4_col6\" class=\"data row4 col6\" >0</td>\n",
       "      <td id=\"T_bc3b6_row4_col7\" class=\"data row4 col7\" >1</td>\n",
       "    </tr>\n",
       "  </tbody>\n",
       "</table>\n"
      ],
      "text/plain": [
       "<pandas.io.formats.style.Styler at 0x1f30e29f910>"
      ]
     },
     "execution_count": 6,
     "metadata": {},
     "output_type": "execute_result"
    }
   ],
   "source": [
    "from sklearn.preprocessing import OneHotEncoder\n",
    "\n",
    "df = pd.DataFrame({'size': ['small', 'medium', 'small', 'large', 'large'],\n",
    "                   'color': ['red', 'blue', 'blue', 'blue', 'red']})\n",
    "\n",
    "encoder = OneHotEncoder()\n",
    "encoder.fit(df)\n",
    "\n",
    "pd.DataFrame(columns = np.hstack((df.columns,[\"\"] , encoder.get_feature_names_out())), \n",
    "             data = np.hstack((df, [['\\u2192']]*5, encoder.transform(df).toarray().astype(int)))\n",
    ").style.hide(axis=\"index\")"
   ]
  },
  {
   "cell_type": "markdown",
   "id": "1243c59b",
   "metadata": {
    "slideshow": {
     "slide_type": "subslide"
    }
   },
   "source": [
    "#### Multi-Label One-Hot Encoding (an alternative for Ordinal data):\n",
    "- create a binary {1, 0} feature for each value of the ordinal or categorical field\n",
    "- assign a 1 in each column corresponding to a value less than or equal to the ordinal value (or the reverse)\n",
    "- drop the lowest value (all 1's)\n",
    "- Pros: \n",
    "    - encodes the ordinal nature of the data\n",
    "    - does not impose a quantitative value\n",
    "- Cons:\n",
    "    - adds many more features than ingeger encoding\n",
    "    - no real con vs. one-hot encoding other than it is a custom operation (no scikit-learn library for this)"
   ]
  },
  {
   "cell_type": "code",
   "execution_count": 7,
   "id": "78be309e",
   "metadata": {
    "slideshow": {
     "slide_type": "subslide"
    }
   },
   "outputs": [
    {
     "data": {
      "text/html": [
       "<style type=\"text/css\">\n",
       "#T_eed81 th {\n",
       "  text-align: center;\n",
       "}\n",
       "</style>\n",
       "<table id=\"T_eed81\">\n",
       "  <thead>\n",
       "    <tr>\n",
       "      <th id=\"T_eed81_level0_col0\" class=\"col_heading level0 col0\" >Original</th>\n",
       "      <th id=\"T_eed81_level0_col1\" class=\"col_heading level0 col1\" ></th>\n",
       "      <th id=\"T_eed81_level0_col2\" class=\"col_heading level0 col2\" colspan=\"3\">One-Hot Encoded</th>\n",
       "    </tr>\n",
       "    <tr>\n",
       "      <th id=\"T_eed81_level1_col0\" class=\"col_heading level1 col0\" >education</th>\n",
       "      <th id=\"T_eed81_level1_col1\" class=\"col_heading level1 col1\" ></th>\n",
       "      <th id=\"T_eed81_level1_col2\" class=\"col_heading level1 col2\" >bachelors</th>\n",
       "      <th id=\"T_eed81_level1_col3\" class=\"col_heading level1 col3\" >masters</th>\n",
       "      <th id=\"T_eed81_level1_col4\" class=\"col_heading level1 col4\" >phd</th>\n",
       "    </tr>\n",
       "  </thead>\n",
       "  <tbody>\n",
       "    <tr>\n",
       "      <td id=\"T_eed81_row0_col0\" class=\"data row0 col0\" >high school</td>\n",
       "      <td id=\"T_eed81_row0_col1\" class=\"data row0 col1\" >→</td>\n",
       "      <td id=\"T_eed81_row0_col2\" class=\"data row0 col2\" >0</td>\n",
       "      <td id=\"T_eed81_row0_col3\" class=\"data row0 col3\" >0</td>\n",
       "      <td id=\"T_eed81_row0_col4\" class=\"data row0 col4\" >0</td>\n",
       "    </tr>\n",
       "    <tr>\n",
       "      <td id=\"T_eed81_row1_col0\" class=\"data row1 col0\" >bachelors</td>\n",
       "      <td id=\"T_eed81_row1_col1\" class=\"data row1 col1\" >→</td>\n",
       "      <td id=\"T_eed81_row1_col2\" class=\"data row1 col2\" >1</td>\n",
       "      <td id=\"T_eed81_row1_col3\" class=\"data row1 col3\" >0</td>\n",
       "      <td id=\"T_eed81_row1_col4\" class=\"data row1 col4\" >0</td>\n",
       "    </tr>\n",
       "    <tr>\n",
       "      <td id=\"T_eed81_row2_col0\" class=\"data row2 col0\" >masters</td>\n",
       "      <td id=\"T_eed81_row2_col1\" class=\"data row2 col1\" >→</td>\n",
       "      <td id=\"T_eed81_row2_col2\" class=\"data row2 col2\" >1</td>\n",
       "      <td id=\"T_eed81_row2_col3\" class=\"data row2 col3\" >1</td>\n",
       "      <td id=\"T_eed81_row2_col4\" class=\"data row2 col4\" >0</td>\n",
       "    </tr>\n",
       "    <tr>\n",
       "      <td id=\"T_eed81_row3_col0\" class=\"data row3 col0\" >phd</td>\n",
       "      <td id=\"T_eed81_row3_col1\" class=\"data row3 col1\" >→</td>\n",
       "      <td id=\"T_eed81_row3_col2\" class=\"data row3 col2\" >1</td>\n",
       "      <td id=\"T_eed81_row3_col3\" class=\"data row3 col3\" >1</td>\n",
       "      <td id=\"T_eed81_row3_col4\" class=\"data row3 col4\" >1</td>\n",
       "    </tr>\n",
       "  </tbody>\n",
       "</table>\n"
      ],
      "text/plain": [
       "<pandas.io.formats.style.Styler at 0x1f30e29fca0>"
      ]
     },
     "execution_count": 7,
     "metadata": {},
     "output_type": "execute_result"
    }
   ],
   "source": [
    "pd.DataFrame({('Original', 'education'): ['high school', 'bachelors', 'masters', 'phd'], \n",
    "              ('', ''): ['\\u2192', '\\u2192', '\\u2192', '\\u2192'],\n",
    "              ('One-Hot Encoded', 'bachelors'): [0, 1, 1, 1],\n",
    "              ('One-Hot Encoded', 'masters'): [0, 0, 1, 1],\n",
    "              ('One-Hot Encoded', 'phd'): [0, 0, 0, 1]}).style\\\n",
    "    .hide(axis=\"index\")\\\n",
    "    .set_table_styles([dict(selector=\"th\", props=[(\"text-align\", \"center\")])])"
   ]
  },
  {
   "cell_type": "markdown",
   "id": "02781d84",
   "metadata": {
    "slideshow": {
     "slide_type": "subslide"
    }
   },
   "source": [
    "#### Cyclic Encoding\n",
    "- How can we encode cyclic data such that values at either end are close to one another?\n",
    "- For example, if we encode weekdays as Sunday = 1, Monday = 2, ... Saturday = 7, it will seeem to our model that Sunday and Saturday are 6 days apart, when they are actually only 1 day apart\n",
    "- The answer is to use the properties of a circle\n",
    "- Map each point to a point on a circle (or to an angle) and compute the sine and cosine of that angle/point\n",
    "- So for weekdays, we can map Sunday, ..., Saturday to ${0, \\frac{\\tau}{7}, \\frac{2\\tau}{7},\\ldots, \\frac{6\\tau}{7}}$, where $\\tau = 2\\pi$\n",
    "- Then for each point, we compute the sine and cosine.\n",
    "\n",
    "\\* https://tauday.com/tau-manifesto"
   ]
  },
  {
   "cell_type": "code",
   "execution_count": 10,
   "id": "2c301c24",
   "metadata": {
    "slideshow": {
     "slide_type": "subslide"
    }
   },
   "outputs": [
    {
     "data": {
      "text/html": [
       "<style type=\"text/css\">\n",
       "</style>\n",
       "<table id=\"T_1a039\">\n",
       "  <thead>\n",
       "    <tr>\n",
       "      <th id=\"T_1a039_level0_col0\" class=\"col_heading level0 col0\" >weekday</th>\n",
       "      <th id=\"T_1a039_level0_col1\" class=\"col_heading level0 col1\" ></th>\n",
       "      <th id=\"T_1a039_level0_col2\" class=\"col_heading level0 col2\" >angle</th>\n",
       "      <th id=\"T_1a039_level0_col3\" class=\"col_heading level0 col3\" > </th>\n",
       "      <th id=\"T_1a039_level0_col4\" class=\"col_heading level0 col4\" >sine</th>\n",
       "      <th id=\"T_1a039_level0_col5\" class=\"col_heading level0 col5\" >cosine</th>\n",
       "    </tr>\n",
       "  </thead>\n",
       "  <tbody>\n",
       "    <tr>\n",
       "      <td id=\"T_1a039_row0_col0\" class=\"data row0 col0\" >Sunday</td>\n",
       "      <td id=\"T_1a039_row0_col1\" class=\"data row0 col1\" >→</td>\n",
       "      <td id=\"T_1a039_row0_col2\" class=\"data row0 col2\" >0</td>\n",
       "      <td id=\"T_1a039_row0_col3\" class=\"data row0 col3\" >→</td>\n",
       "      <td id=\"T_1a039_row0_col4\" class=\"data row0 col4\" >0.000000</td>\n",
       "      <td id=\"T_1a039_row0_col5\" class=\"data row0 col5\" >1.000000</td>\n",
       "    </tr>\n",
       "    <tr>\n",
       "      <td id=\"T_1a039_row1_col0\" class=\"data row1 col0\" >Monday</td>\n",
       "      <td id=\"T_1a039_row1_col1\" class=\"data row1 col1\" >→</td>\n",
       "      <td id=\"T_1a039_row1_col2\" class=\"data row1 col2\" >τ / 7</td>\n",
       "      <td id=\"T_1a039_row1_col3\" class=\"data row1 col3\" >→</td>\n",
       "      <td id=\"T_1a039_row1_col4\" class=\"data row1 col4\" >0.781831</td>\n",
       "      <td id=\"T_1a039_row1_col5\" class=\"data row1 col5\" >0.623490</td>\n",
       "    </tr>\n",
       "    <tr>\n",
       "      <td id=\"T_1a039_row2_col0\" class=\"data row2 col0\" >Tuesday</td>\n",
       "      <td id=\"T_1a039_row2_col1\" class=\"data row2 col1\" >→</td>\n",
       "      <td id=\"T_1a039_row2_col2\" class=\"data row2 col2\" >2τ  7</td>\n",
       "      <td id=\"T_1a039_row2_col3\" class=\"data row2 col3\" >→</td>\n",
       "      <td id=\"T_1a039_row2_col4\" class=\"data row2 col4\" >0.974928</td>\n",
       "      <td id=\"T_1a039_row2_col5\" class=\"data row2 col5\" >-0.222521</td>\n",
       "    </tr>\n",
       "    <tr>\n",
       "      <td id=\"T_1a039_row3_col0\" class=\"data row3 col0\" >Wednesday</td>\n",
       "      <td id=\"T_1a039_row3_col1\" class=\"data row3 col1\" >→</td>\n",
       "      <td id=\"T_1a039_row3_col2\" class=\"data row3 col2\" >3τ  7</td>\n",
       "      <td id=\"T_1a039_row3_col3\" class=\"data row3 col3\" >→</td>\n",
       "      <td id=\"T_1a039_row3_col4\" class=\"data row3 col4\" >0.433884</td>\n",
       "      <td id=\"T_1a039_row3_col5\" class=\"data row3 col5\" >-0.900969</td>\n",
       "    </tr>\n",
       "    <tr>\n",
       "      <td id=\"T_1a039_row4_col0\" class=\"data row4 col0\" >Thursday</td>\n",
       "      <td id=\"T_1a039_row4_col1\" class=\"data row4 col1\" >→</td>\n",
       "      <td id=\"T_1a039_row4_col2\" class=\"data row4 col2\" >4τ  7</td>\n",
       "      <td id=\"T_1a039_row4_col3\" class=\"data row4 col3\" >→</td>\n",
       "      <td id=\"T_1a039_row4_col4\" class=\"data row4 col4\" >-0.433884</td>\n",
       "      <td id=\"T_1a039_row4_col5\" class=\"data row4 col5\" >-0.900969</td>\n",
       "    </tr>\n",
       "    <tr>\n",
       "      <td id=\"T_1a039_row5_col0\" class=\"data row5 col0\" >Friday</td>\n",
       "      <td id=\"T_1a039_row5_col1\" class=\"data row5 col1\" >→</td>\n",
       "      <td id=\"T_1a039_row5_col2\" class=\"data row5 col2\" >5τ  7</td>\n",
       "      <td id=\"T_1a039_row5_col3\" class=\"data row5 col3\" >→</td>\n",
       "      <td id=\"T_1a039_row5_col4\" class=\"data row5 col4\" >-0.974928</td>\n",
       "      <td id=\"T_1a039_row5_col5\" class=\"data row5 col5\" >-0.222521</td>\n",
       "    </tr>\n",
       "    <tr>\n",
       "      <td id=\"T_1a039_row6_col0\" class=\"data row6 col0\" >Saturday</td>\n",
       "      <td id=\"T_1a039_row6_col1\" class=\"data row6 col1\" >→</td>\n",
       "      <td id=\"T_1a039_row6_col2\" class=\"data row6 col2\" >6τ  7</td>\n",
       "      <td id=\"T_1a039_row6_col3\" class=\"data row6 col3\" >→</td>\n",
       "      <td id=\"T_1a039_row6_col4\" class=\"data row6 col4\" >-0.781831</td>\n",
       "      <td id=\"T_1a039_row6_col5\" class=\"data row6 col5\" >0.623490</td>\n",
       "    </tr>\n",
       "  </tbody>\n",
       "</table>\n"
      ],
      "text/plain": [
       "<pandas.io.formats.style.Styler at 0x1f30eb8fb50>"
      ]
     },
     "execution_count": 10,
     "metadata": {},
     "output_type": "execute_result"
    }
   ],
   "source": [
    "pd.DataFrame({'weekday': ['Sunday', 'Monday', 'Tuesday', 'Wednesday', 'Thursday', 'Friday', 'Saturday'], \n",
    "              '': ['\\u2192'] * 7,\n",
    "              'angle': [0, '\\u03C4 / 7'] + [str(x) + '\\u03C4  7' for x in range(2, 7)],\n",
    "              ' ': ['\\u2192'] * 7,\n",
    "              'sine': [np.sin(x * 2 * np.pi / 7) for x in range(7)],\n",
    "              'cosine': [np.cos(x * 2 * np.pi / 7) for x in range(7)]\n",
    "             }).style.hide(axis=\"index\")"
   ]
  },
  {
   "cell_type": "markdown",
   "id": "f7efc640",
   "metadata": {
    "slideshow": {
     "slide_type": "fragment"
    }
   },
   "source": [
    "How does this solve the cyclic distance problem?"
   ]
  },
  {
   "cell_type": "markdown",
   "id": "a2433145",
   "metadata": {
    "slideshow": {
     "slide_type": "slide"
    }
   },
   "source": [
    "## Standardizing & Scaling Data\n",
    "\n",
    "Why do we want to standardize & scale data?\n",
    "- When working with vastly different scales, some models will be biased toward the data with greater scales\n",
    "- When working with gradient descent/neural networks, we typically want to keep numbers relatively small"
   ]
  },
  {
   "cell_type": "markdown",
   "id": "53feca46",
   "metadata": {
    "slideshow": {
     "slide_type": "subslide"
    }
   },
   "source": [
    "### Max Scaling\n",
    "\n",
    "- Divide every value by the maximum value.\n",
    "- Scales values to $[0, 1]$ if all positive, or $[-1, 0]$ if all negative, or $[-1, 1]$ if mixed signs\n",
    "- Good when we want to maintain 0 as minimum value (if all positive) or when we want to keep positive numbers positive and negative numbers negative, not necessarily symmetric around 0"
   ]
  },
  {
   "cell_type": "code",
   "execution_count": 11,
   "id": "af4e8a8d",
   "metadata": {
    "slideshow": {
     "slide_type": "fragment"
    }
   },
   "outputs": [
    {
     "data": {
      "text/html": [
       "<style type=\"text/css\">\n",
       "</style>\n",
       "<table id=\"T_15be2\">\n",
       "  <thead>\n",
       "    <tr>\n",
       "      <th id=\"T_15be2_level0_col0\" class=\"col_heading level0 col0\" >net worth ($)</th>\n",
       "      <th id=\"T_15be2_level0_col1\" class=\"col_heading level0 col1\" ></th>\n",
       "      <th id=\"T_15be2_level0_col2\" class=\"col_heading level0 col2\" >max_scaled</th>\n",
       "    </tr>\n",
       "  </thead>\n",
       "  <tbody>\n",
       "    <tr>\n",
       "      <td id=\"T_15be2_row0_col0\" class=\"data row0 col0\" >-530,462</td>\n",
       "      <td id=\"T_15be2_row0_col1\" class=\"data row0 col1\" >→</td>\n",
       "      <td id=\"T_15be2_row0_col2\" class=\"data row0 col2\" >-0.023051</td>\n",
       "    </tr>\n",
       "    <tr>\n",
       "      <td id=\"T_15be2_row1_col0\" class=\"data row1 col0\" >23,012,405</td>\n",
       "      <td id=\"T_15be2_row1_col1\" class=\"data row1 col1\" >→</td>\n",
       "      <td id=\"T_15be2_row1_col2\" class=\"data row1 col2\" >1.000000</td>\n",
       "    </tr>\n",
       "    <tr>\n",
       "      <td id=\"T_15be2_row2_col0\" class=\"data row2 col0\" >76,342</td>\n",
       "      <td id=\"T_15be2_row2_col1\" class=\"data row2 col1\" >→</td>\n",
       "      <td id=\"T_15be2_row2_col2\" class=\"data row2 col2\" >0.003317</td>\n",
       "    </tr>\n",
       "    <tr>\n",
       "      <td id=\"T_15be2_row3_col0\" class=\"data row3 col0\" >0</td>\n",
       "      <td id=\"T_15be2_row3_col1\" class=\"data row3 col1\" >→</td>\n",
       "      <td id=\"T_15be2_row3_col2\" class=\"data row3 col2\" >0.000000</td>\n",
       "    </tr>\n",
       "  </tbody>\n",
       "</table>\n"
      ],
      "text/plain": [
       "<pandas.io.formats.style.Styler at 0x1f30eb8f010>"
      ]
     },
     "execution_count": 11,
     "metadata": {},
     "output_type": "execute_result"
    }
   ],
   "source": [
    "from sklearn.preprocessing import MaxAbsScaler\n",
    "\n",
    "df = pd.DataFrame({\"net worth\": [-530462, 23012405, 76342, 0]})\n",
    "\n",
    "scaler = MaxAbsScaler().fit(df)\n",
    "\n",
    "pd.DataFrame({\"net worth ($)\": [f'{x:,}' for x in df['net worth']], \n",
    "              '': ['\\u2192'] * 4,\n",
    "              'max_scaled': scaler.transform(df)[:, 0],\n",
    "              }).style.hide(axis=\"index\")"
   ]
  },
  {
   "cell_type": "markdown",
   "id": "4573bcc5",
   "metadata": {
    "slideshow": {
     "slide_type": "subslide"
    }
   },
   "source": [
    "### Min-Max Scaling\n",
    "\n",
    "- Subtract the minimum from every value and divide the difference by the difference between the maximum and minimum values.\n",
    "- $x_{\\text{min_max_scaled}} = \\frac{x - x_{min}}{x_{max} - x_{min}}$\n",
    "- Scales values to $[0, 1]$\n",
    "- Good when numbers are clustered far from 0, or if we don't care about maintaining the sign"
   ]
  },
  {
   "cell_type": "code",
   "execution_count": 12,
   "id": "3087e19e",
   "metadata": {
    "slideshow": {
     "slide_type": "fragment"
    }
   },
   "outputs": [
    {
     "data": {
      "text/html": [
       "<style type=\"text/css\">\n",
       "</style>\n",
       "<table id=\"T_8e22d\">\n",
       "  <thead>\n",
       "    <tr>\n",
       "      <th id=\"T_8e22d_level0_col0\" class=\"col_heading level0 col0\" >flight distance (miles)</th>\n",
       "      <th id=\"T_8e22d_level0_col1\" class=\"col_heading level0 col1\" ></th>\n",
       "      <th id=\"T_8e22d_level0_col2\" class=\"col_heading level0 col2\" >min_max_scaled</th>\n",
       "    </tr>\n",
       "  </thead>\n",
       "  <tbody>\n",
       "    <tr>\n",
       "      <td id=\"T_8e22d_row0_col0\" class=\"data row0 col0\" >5,462</td>\n",
       "      <td id=\"T_8e22d_row0_col1\" class=\"data row0 col1\" >→</td>\n",
       "      <td id=\"T_8e22d_row0_col2\" class=\"data row0 col2\" >0.735658</td>\n",
       "    </tr>\n",
       "    <tr>\n",
       "      <td id=\"T_8e22d_row1_col0\" class=\"data row1 col0\" >230</td>\n",
       "      <td id=\"T_8e22d_row1_col1\" class=\"data row1 col1\" >→</td>\n",
       "      <td id=\"T_8e22d_row1_col2\" class=\"data row1 col2\" >0.000000</td>\n",
       "    </tr>\n",
       "    <tr>\n",
       "      <td id=\"T_8e22d_row2_col0\" class=\"data row2 col0\" >7,342</td>\n",
       "      <td id=\"T_8e22d_row2_col1\" class=\"data row2 col1\" >→</td>\n",
       "      <td id=\"T_8e22d_row2_col2\" class=\"data row2 col2\" >1.000000</td>\n",
       "    </tr>\n",
       "    <tr>\n",
       "      <td id=\"T_8e22d_row3_col0\" class=\"data row3 col0\" >978</td>\n",
       "      <td id=\"T_8e22d_row3_col1\" class=\"data row3 col1\" >→</td>\n",
       "      <td id=\"T_8e22d_row3_col2\" class=\"data row3 col2\" >0.105174</td>\n",
       "    </tr>\n",
       "  </tbody>\n",
       "</table>\n"
      ],
      "text/plain": [
       "<pandas.io.formats.style.Styler at 0x1f30e429510>"
      ]
     },
     "execution_count": 12,
     "metadata": {},
     "output_type": "execute_result"
    }
   ],
   "source": [
    "from sklearn.preprocessing import MinMaxScaler\n",
    "\n",
    "df = pd.DataFrame({\"flight_distance\": [5462, 230, 7342, 978]})\n",
    "\n",
    "scaler = MinMaxScaler().fit(df)\n",
    "\n",
    "pd.DataFrame({\"flight distance (miles)\": [f'{x:,}' for x in df['flight_distance']], \n",
    "              '': ['\\u2192'] * 4,\n",
    "              'min_max_scaled': scaler.transform(df)[:, 0],\n",
    "              }).style.hide(axis=\"index\")"
   ]
  },
  {
   "cell_type": "markdown",
   "id": "a55b639b",
   "metadata": {
    "slideshow": {
     "slide_type": "subslide"
    }
   },
   "source": [
    "### Standard Scaling\n",
    "\n",
    "- Subtract the mean from every value and divide by the standard deviation.\n",
    "- $x_{\\text{standard_scaled}} = \\frac{x - \\bar{x}}{s_x}$\n",
    "- Scales values to $(-\\infty, \\infty)$, but you can expect the vast majority to fill within a few standard deviations of the mean, 0\n",
    "- Good for any model that likes data to look like a Standard Normal Distribution"
   ]
  },
  {
   "cell_type": "code",
   "execution_count": 13,
   "id": "021e0067",
   "metadata": {
    "slideshow": {
     "slide_type": "fragment"
    }
   },
   "outputs": [
    {
     "data": {
      "text/html": [
       "<style type=\"text/css\">\n",
       "</style>\n",
       "<table id=\"T_c181a\">\n",
       "  <thead>\n",
       "    <tr>\n",
       "      <th id=\"T_c181a_level0_col0\" class=\"col_heading level0 col0\" >height_inches</th>\n",
       "      <th id=\"T_c181a_level0_col1\" class=\"col_heading level0 col1\" ></th>\n",
       "      <th id=\"T_c181a_level0_col2\" class=\"col_heading level0 col2\" >standard_scaled</th>\n",
       "    </tr>\n",
       "  </thead>\n",
       "  <tbody>\n",
       "    <tr>\n",
       "      <td id=\"T_c181a_row0_col0\" class=\"data row0 col0\" >63</td>\n",
       "      <td id=\"T_c181a_row0_col1\" class=\"data row0 col1\" >→</td>\n",
       "      <td id=\"T_c181a_row0_col2\" class=\"data row0 col2\" >-0.974355</td>\n",
       "    </tr>\n",
       "    <tr>\n",
       "      <td id=\"T_c181a_row1_col0\" class=\"data row1 col0\" >72</td>\n",
       "      <td id=\"T_c181a_row1_col1\" class=\"data row1 col1\" >→</td>\n",
       "      <td id=\"T_c181a_row1_col2\" class=\"data row1 col2\" >0.779484</td>\n",
       "    </tr>\n",
       "    <tr>\n",
       "      <td id=\"T_c181a_row2_col0\" class=\"data row2 col0\" >75</td>\n",
       "      <td id=\"T_c181a_row2_col1\" class=\"data row2 col1\" >→</td>\n",
       "      <td id=\"T_c181a_row2_col2\" class=\"data row2 col2\" >1.364097</td>\n",
       "    </tr>\n",
       "    <tr>\n",
       "      <td id=\"T_c181a_row3_col0\" class=\"data row3 col0\" >60</td>\n",
       "      <td id=\"T_c181a_row3_col1\" class=\"data row3 col1\" >→</td>\n",
       "      <td id=\"T_c181a_row3_col2\" class=\"data row3 col2\" >-1.558968</td>\n",
       "    </tr>\n",
       "    <tr>\n",
       "      <td id=\"T_c181a_row4_col0\" class=\"data row4 col0\" >68</td>\n",
       "      <td id=\"T_c181a_row4_col1\" class=\"data row4 col1\" >→</td>\n",
       "      <td id=\"T_c181a_row4_col2\" class=\"data row4 col2\" >0.000000</td>\n",
       "    </tr>\n",
       "    <tr>\n",
       "      <td id=\"T_c181a_row5_col0\" class=\"data row5 col0\" >70</td>\n",
       "      <td id=\"T_c181a_row5_col1\" class=\"data row5 col1\" >→</td>\n",
       "      <td id=\"T_c181a_row5_col2\" class=\"data row5 col2\" >0.389742</td>\n",
       "    </tr>\n",
       "  </tbody>\n",
       "</table>\n"
      ],
      "text/plain": [
       "<pandas.io.formats.style.Styler at 0x1f30e29fb80>"
      ]
     },
     "execution_count": 13,
     "metadata": {},
     "output_type": "execute_result"
    }
   ],
   "source": [
    "from sklearn.preprocessing import StandardScaler\n",
    "\n",
    "df = pd.DataFrame({\"height_inches\": [63, 72, 75, 60, 68, 70]})\n",
    "\n",
    "scaler = StandardScaler().fit(df)\n",
    "\n",
    "pd.DataFrame({\"height_inches\": [63, 72, 75, 60, 68, 70], \n",
    "              '': ['\\u2192'] * 6,\n",
    "              'standard_scaled': scaler.transform(df)[:, 0],\n",
    "              }).style.hide(axis=\"index\")"
   ]
  },
  {
   "cell_type": "markdown",
   "id": "4955bc00",
   "metadata": {
    "slideshow": {
     "slide_type": "slide"
    }
   },
   "source": [
    "### Robust Scaling\n",
    "\n",
    "- Similar to Standard Scaling, but better if there are outliers\n",
    "- Subtract the median from every value and divide by the IQR (inter-quartile-range: 75th percentile - 25th percentile).\n",
    "- Scales values to $(-\\infty, \\infty)$, but you can expect the vast majority to fill within a few standard deviations of the mean, 0\n",
    "- Good for data with outliers"
   ]
  },
  {
   "cell_type": "code",
   "execution_count": 14,
   "id": "01ef578c",
   "metadata": {
    "slideshow": {
     "slide_type": "fragment"
    }
   },
   "outputs": [
    {
     "data": {
      "text/html": [
       "<style type=\"text/css\">\n",
       "</style>\n",
       "<table id=\"T_0aa1e\">\n",
       "  <thead>\n",
       "    <tr>\n",
       "      <th id=\"T_0aa1e_level0_col0\" class=\"col_heading level0 col0\" >height_inches</th>\n",
       "      <th id=\"T_0aa1e_level0_col1\" class=\"col_heading level0 col1\" ></th>\n",
       "      <th id=\"T_0aa1e_level0_col2\" class=\"col_heading level0 col2\" >robust_scaled</th>\n",
       "    </tr>\n",
       "  </thead>\n",
       "  <tbody>\n",
       "    <tr>\n",
       "      <td id=\"T_0aa1e_row0_col0\" class=\"data row0 col0\" >63</td>\n",
       "      <td id=\"T_0aa1e_row0_col1\" class=\"data row0 col1\" >→</td>\n",
       "      <td id=\"T_0aa1e_row0_col2\" class=\"data row0 col2\" >-0.526316</td>\n",
       "    </tr>\n",
       "    <tr>\n",
       "      <td id=\"T_0aa1e_row1_col0\" class=\"data row1 col0\" >72</td>\n",
       "      <td id=\"T_0aa1e_row1_col1\" class=\"data row1 col1\" >→</td>\n",
       "      <td id=\"T_0aa1e_row1_col2\" class=\"data row1 col2\" >0.421053</td>\n",
       "    </tr>\n",
       "    <tr>\n",
       "      <td id=\"T_0aa1e_row2_col0\" class=\"data row2 col0\" >75</td>\n",
       "      <td id=\"T_0aa1e_row2_col1\" class=\"data row2 col1\" >→</td>\n",
       "      <td id=\"T_0aa1e_row2_col2\" class=\"data row2 col2\" >0.736842</td>\n",
       "    </tr>\n",
       "    <tr>\n",
       "      <td id=\"T_0aa1e_row3_col0\" class=\"data row3 col0\" >60</td>\n",
       "      <td id=\"T_0aa1e_row3_col1\" class=\"data row3 col1\" >→</td>\n",
       "      <td id=\"T_0aa1e_row3_col2\" class=\"data row3 col2\" >-0.842105</td>\n",
       "    </tr>\n",
       "    <tr>\n",
       "      <td id=\"T_0aa1e_row4_col0\" class=\"data row4 col0\" >68</td>\n",
       "      <td id=\"T_0aa1e_row4_col1\" class=\"data row4 col1\" >→</td>\n",
       "      <td id=\"T_0aa1e_row4_col2\" class=\"data row4 col2\" >0.000000</td>\n",
       "    </tr>\n",
       "    <tr>\n",
       "      <td id=\"T_0aa1e_row5_col0\" class=\"data row5 col0\" >70</td>\n",
       "      <td id=\"T_0aa1e_row5_col1\" class=\"data row5 col1\" >→</td>\n",
       "      <td id=\"T_0aa1e_row5_col2\" class=\"data row5 col2\" >0.210526</td>\n",
       "    </tr>\n",
       "    <tr>\n",
       "      <td id=\"T_0aa1e_row6_col0\" class=\"data row6 col0\" >39</td>\n",
       "      <td id=\"T_0aa1e_row6_col1\" class=\"data row6 col1\" >→</td>\n",
       "      <td id=\"T_0aa1e_row6_col2\" class=\"data row6 col2\" >-3.052632</td>\n",
       "    </tr>\n",
       "  </tbody>\n",
       "</table>\n"
      ],
      "text/plain": [
       "<pandas.io.formats.style.Styler at 0x1f308bed5a0>"
      ]
     },
     "execution_count": 14,
     "metadata": {},
     "output_type": "execute_result"
    }
   ],
   "source": [
    "from sklearn.preprocessing import RobustScaler\n",
    "\n",
    "df = pd.DataFrame({\"height_inches\": [63, 72, 75, 60, 68, 70, 39]})\n",
    "\n",
    "scaler = RobustScaler().fit(df)\n",
    "\n",
    "pd.DataFrame({\"height_inches\": [63, 72, 75, 60, 68, 70, 39], \n",
    "              '': ['\\u2192'] * 7,\n",
    "              'robust_scaled': scaler.transform(df)[:, 0],\n",
    "              }).style.hide(axis=\"index\")"
   ]
  },
  {
   "cell_type": "markdown",
   "id": "2f9ab0a8",
   "metadata": {
    "slideshow": {
     "slide_type": "subslide"
    }
   },
   "source": [
    "## Important Warning!\n",
    "\n",
    "Scaling Should only be fitted on TRAINING DATA. If you include Test/Validation Data when fitting your scaler, you will be leaking data into your model and it will make the results look better than it's true potential generalizable performance"
   ]
  },
  {
   "attachments": {
    "image.png": {
     "image/png": "[encoded data removed]"
    }
   },
   "cell_type": "markdown",
   "id": "58bb9651",
   "metadata": {
    "slideshow": {
     "slide_type": "slide"
    }
   },
   "source": [
    "## Outliers\n",
    "- We're not going to spend much time on this, but it's important to think about when you should keep, remove, or otherwise handle outliers in your data\n",
    "\n",
    "![image.png](attachment:image.png)\n",
    "source: https://davidmlane.com/ben/cartoons.html"
   ]
  },
  {
   "cell_type": "markdown",
   "id": "f8f2a81a",
   "metadata": {
    "slideshow": {
     "slide_type": "slide"
    }
   },
   "source": [
    "## Bias-Variance Tradeoff\n",
    "\n",
    "- Fundamental concept in machine learning and statistics\n",
    "- Need to balancing two types of error: Bias and Variance\n",
    "- We want to reduce both, but often reducing one increases the other\n",
    "- Key to improving model performance and generalization"
   ]
  },
  {
   "cell_type": "markdown",
   "id": "c3785700",
   "metadata": {
    "slideshow": {
     "slide_type": "subslide"
    }
   },
   "source": [
    "### What is Bias?\n",
    "\n",
    "- Error from simplifying the assumptions made in a model.\n",
    "- High bias can cause underfitting:\n",
    "- Model is too simple and overlooks key trends.\n",
    "- Example: Linear regression missing nonlinear patterns.\n",
    "- When a model has high Bias it will not perform will **even on the training data**"
   ]
  },
  {
   "cell_type": "markdown",
   "id": "f3935cd6",
   "metadata": {
    "slideshow": {
     "slide_type": "subslide"
    }
   },
   "source": [
    "### What is Variance?\n",
    "\n",
    "- Error from model sensitivity to small fluctuations in data.\n",
    "- High variance can cause overfitting\n",
    "- Model is too complex, capturing noise instead of signal.\n",
    "- Example: Deep neural networks fitting to random noise.\n",
    "- When a model has high variance, it will not perform well **on the testing data**\n",
    "- A big degradation of performance between training and testing data is a good indicator of high variance"
   ]
  },
  {
   "cell_type": "markdown",
   "id": "a6602491",
   "metadata": {
    "slideshow": {
     "slide_type": "subslide"
    }
   },
   "source": [
    "### The Tradeoff\n",
    "\n",
    "- High Bias, Low Variance:\n",
    "- Overly simple models that fail to capture complex data patterns.\n",
    "- Consistent but inaccurate predictions.\n",
    "- Low Bias, High Variance:\n",
    "- Overly complex models sensitive to training data specifics.\n",
    "- Accurate on training data but poor on unseen data."
   ]
  },
  {
   "cell_type": "markdown",
   "id": "609d6dc4",
   "metadata": {
    "slideshow": {
     "slide_type": "subslide"
    }
   },
   "source": [
    "### Managing the Tradeoff\n",
    "\n",
    "- Selecting the right model complexity.\n",
    "- Utilizing regularization and pruning techniques.\n",
    "- Implementing cross-validation to assess model performance on unseen data."
   ]
  },
  {
   "cell_type": "code",
   "execution_count": 15,
   "id": "fce6a9b5",
   "metadata": {
    "slideshow": {
     "slide_type": "skip"
    }
   },
   "outputs": [],
   "source": [
    "np.random.seed(18)\n",
    "\n",
    "x = 5 * np.random.random(100) - 1.5\n",
    "y =  x ** 2 + np.random.normal(0, 1, 100)\n",
    "group = np.random.choice(['train', 'test'], p = [0.7, 0.3], size = 100)\n",
    "df = pd.DataFrame({'x': x, 'y': y, 'group': group})"
   ]
  },
  {
   "cell_type": "code",
   "execution_count": 16,
   "id": "8c94e284",
   "metadata": {
    "slideshow": {
     "slide_type": "skip"
    }
   },
   "outputs": [],
   "source": [
    "from sklearn.preprocessing import PolynomialFeatures\n",
    "from sklearn.linear_model import LinearRegression\n",
    "\n",
    "r2s = {}\n",
    "\n",
    "def gen_preds(df, degree=2, name = 'Balanced Model'):\n",
    "    poly = PolynomialFeatures(degree)\n",
    "    x_train = poly.fit_transform(df[df['group']=='train'][['x']])\n",
    "    reg = LinearRegression().fit(x_train, df[df['group'] == 'train']['y'])\n",
    "    df[name] = reg.predict(poly.transform(df[['x']]))\n",
    "    r2_train = reg.score(x_train, df[df['group'] == 'train']['y'])\n",
    "    r2_test = reg.score(poly.transform(df[df['group']=='test'][['x']]), df[df['group']=='test']['y'])\n",
    "    r2s[name] = [r2_train, r2_test]\n",
    "    return df"
   ]
  },
  {
   "cell_type": "code",
   "execution_count": 17,
   "id": "c544873e",
   "metadata": {
    "slideshow": {
     "slide_type": "skip"
    }
   },
   "outputs": [],
   "source": [
    "df = df.pipe(gen_preds, degree = 1, name = 'Underfitted Model')\\\n",
    "    .pipe(gen_preds, degree = 23, name = 'Overfitted Model')\\\n",
    "    .pipe(gen_preds, degree = 2, name = 'Balanced Model')"
   ]
  },
  {
   "cell_type": "code",
   "execution_count": 18,
   "id": "d22c7e05",
   "metadata": {
    "slideshow": {
     "slide_type": "fragment"
    }
   },
   "outputs": [
    {
     "data": {
      "image/png": "[encoded data removed]",
      "text/plain": [
       "<Figure size 1200x400 with 3 Axes>"
      ]
     },
     "metadata": {},
     "output_type": "display_data"
    }
   ],
   "source": [
    "fig, axs = plt.subplots(ncols=3, sharey = True, figsize=(12, 4))\n",
    "for i, (model_name, r2) in enumerate(r2s.items()):\n",
    "    axs[i].set_title(model_name)\n",
    "    sns.scatterplot(df, x='x', y='y', hue = 'group', ax = axs[i])\n",
    "    sns.lineplot(df, x='x', y = model_name, ax = axs[i], color = 'purple')\n",
    "    text = f\"train R^2={r2[0]:.2f}, test R^2={r2[1]:.2f}\"\n",
    "    axs[i].text(0.5, -0.2, text, horizontalalignment='center', verticalalignment='center', transform=axs[i].transAxes)"
   ]
  },
  {
   "cell_type": "markdown",
   "id": "7adebcfd",
   "metadata": {
    "slideshow": {
     "slide_type": "slide"
    }
   },
   "source": [
    "## Feature Selection & Dimensionality Reduction\n",
    "\n",
    "Methods to reduce overfitting as well as speeding up model training and prediction"
   ]
  },
  {
   "cell_type": "markdown",
   "id": "3f887325",
   "metadata": {
    "slideshow": {
     "slide_type": "subslide"
    }
   },
   "source": [
    "### Dimensionality Reduction\n",
    "- Definition: Reducing the number of dimensions by transforming or combining features\n",
    "- Methods:\n",
    "    - Principal Component Analysis (PCA): Unsupervised Method that combines and transforms features into uncorrelated new ones ranked from greatest to least variance. Those with the least variance can often be dropped improving model performance\n",
    "    - Linear Discriminant Analysis (LDA): Supervised method (for classification models) that transforms features into a new smaller set of features that are ranked in order from maximum to minimum separation of classes\n",
    "    - Autoencoders: Neural networks that learn compressed data representations.\n",
    "    - Use Cases: When features are highly correlated or when data dimensionality is too high"
   ]
  },
  {
   "cell_type": "markdown",
   "id": "7bfa7c11",
   "metadata": {
    "slideshow": {
     "slide_type": "subslide"
    }
   },
   "source": [
    "### Feature Selection\n",
    "- Definition: Selecting a subset of relevant features for model training\n",
    "- Methods:\n",
    "    - Embedded Methods: Algorithms with built-in feature selection (e.g., Lasso, Decision Tree Models)\n",
    "    - Filter Methods: Use statistical tests to select features (e.g., correlation, Chi-squared test) based on their individual relationship with the target\n",
    "    - Wrapper Methods: Use algorithms to evaluate the performance of feature subsets (e.g., Recursive Feature Elimination)\n",
    "- Use Cases: When specific features contribute directly to predicting the target variable\n",
    "    \n",
    "Why is feature selection a hard problem?"
   ]
  },
  {
   "cell_type": "markdown",
   "id": "2998f538",
   "metadata": {
    "slideshow": {
     "slide_type": "subslide"
    }
   },
   "source": [
    "### An Example:\n",
    "Let's took a look at using Logistic Regression to predict whether a breast tumor is cancerous"
   ]
  },
  {
   "cell_type": "code",
   "execution_count": 19,
   "id": "f093555a",
   "metadata": {
    "slideshow": {
     "slide_type": "fragment"
    }
   },
   "outputs": [
    {
     "name": "stdout",
     "output_type": "stream",
     "text": [
      "features: 30, train accuracy: 0.9626, test accuracy: 0.9123\n"
     ]
    }
   ],
   "source": [
    "from sklearn.datasets import load_breast_cancer\n",
    "from sklearn.model_selection import train_test_split\n",
    "from sklearn.linear_model import LogisticRegression\n",
    "\n",
    "X, y = load_breast_cancer(return_X_y = True, as_frame=True)\n",
    "X_train, X_test, y_train, y_test = train_test_split(X, y, test_size = 0.2, random_state = 4)\n",
    "clf = LogisticRegression(max_iter = 10000)\n",
    "clf.fit(X_train, y_train)\n",
    "print(f\"features: {X_train.shape[1]},\",\n",
    "      f\"train accuracy: {clf.score(X_train, y_train):.4f},\", \n",
    "      f\"test accuracy: {clf.score(X_test, y_test):.4f}\")"
   ]
  },
  {
   "cell_type": "markdown",
   "id": "f56931ba",
   "metadata": {
    "slideshow": {
     "slide_type": "subslide"
    }
   },
   "source": [
    "### LDA\n",
    "Now let's use LDA to reduce the dimensionality of X from 30 to 1 (LDA reduces dimensionality the lesser of classes - 1 or features - 1), as there are only two classes, this will be 1 feature. Then we'll refit the model. (Note: you should always standardize features before using LDA because it expects equivalent variences)\n",
    "\n",
    "https://youtu.be/azXCzI57Yfc?si=2sMrvcew_BPfkhph"
   ]
  },
  {
   "cell_type": "code",
   "execution_count": 26,
   "id": "8b5c20f6",
   "metadata": {
    "slideshow": {
     "slide_type": "fragment"
    }
   },
   "outputs": [
    {
     "name": "stdout",
     "output_type": "stream",
     "text": [
      "features: 1, train accuracy: 0.9692, test accuracy: 0.9825\n"
     ]
    }
   ],
   "source": [
    "from sklearn.discriminant_analysis import LinearDiscriminantAnalysis\n",
    "scaler = StandardScaler()\n",
    "lda = LinearDiscriminantAnalysis()\n",
    "X_train_lda = lda.fit_transform(scaler.fit_transform(X_train), y_train)\n",
    "X_test_lda = lda.transform(scaler.transform(X_test))\n",
    "clf.fit(X_train_lda, y_train)\n",
    "\n",
    "print(f\"features: {X_train_lda.shape[1]},\",\n",
    "      f\"train accuracy: {clf.score(X_train_lda, y_train):.4f},\",\n",
    "      f\"test accuracy: {clf.score(X_test_lda, y_test):.4f}\")"
   ]
  },
  {
   "cell_type": "markdown",
   "id": "13fa4321",
   "metadata": {
    "slideshow": {
     "slide_type": "subslide"
    }
   },
   "source": [
    "### RFE\n",
    "Now let's use RFE to recursively eliminate features until we're left with 15, and refit the model. (Note: you should always standardize features before using RFE, because RFE compares coefficients to eliminate features and they are only comparable if features are similarly scaled)."
   ]
  },
  {
   "cell_type": "code",
   "execution_count": 21,
   "id": "88f89769",
   "metadata": {
    "slideshow": {
     "slide_type": "fragment"
    }
   },
   "outputs": [
    {
     "name": "stdout",
     "output_type": "stream",
     "text": [
      "features: 15, train accuracy: 0.9846, test accuracy: 0.9561\n"
     ]
    }
   ],
   "source": [
    "from sklearn.feature_selection import RFE\n",
    "from sklearn.preprocessing import StandardScaler\n",
    "\n",
    "scaler = StandardScaler()\n",
    "rfe = RFE(clf, n_features_to_select = 15)\n",
    "rfe.fit(scaler.fit_transform(X_train), y_train)\n",
    "\n",
    "print(f\"features: {rfe.n_features_},\",\n",
    "      f\"train accuracy: {rfe.score(scaler.transform(X_train), y_train):.4f},\",\n",
    "      f\"test accuracy: {rfe.score(scaler.transform(X_test), y_test):.4f}\")"
   ]
  },
  {
   "cell_type": "markdown",
   "id": "30be6a7b",
   "metadata": {
    "slideshow": {
     "slide_type": "subslide"
    }
   },
   "source": [
    "### Questions to Consider\n",
    "\n",
    "- Why do you think RFE did worse than LDA on the training set?\n",
    "- Why do you think RFE did better than the full model on the testing set?\n",
    "- Why do you think LDA did the best overall in this case?"
   ]
  },
  {
   "cell_type": "markdown",
   "id": "ecea50cb",
   "metadata": {
    "slideshow": {
     "slide_type": "fragment"
    }
   },
   "source": [
    "### Comparing Reduction vs. Selection\n",
    "\n",
    "- Dimensionality Reduction: Transforms features into a lower-dimensional space.\n",
    "- Feature Selection: Chooses a subset of original features without transformation.\n",
    "\n",
    "- Decision Criteria: Depends on model requirements, computational resources, and data characteristics."
   ]
  },
  {
   "cell_type": "markdown",
   "id": "993b0bf9",
   "metadata": {
    "slideshow": {
     "slide_type": "slide"
    }
   },
   "source": [
    "## Cross Validation\n",
    "\n",
    "- Definition: A statistical method used to estimate the skill of machine learning models\n",
    "- Purpose: Ensures that the model is capable of performing well on unseen data\n",
    "    - Avoids Overfitting: Ensures the model performs well on new, unseen data, not just on the training set\n",
    "    - Model Validation: Provides a robust estimate of the model's performance\n",
    "    - Parameter Tuning: Assists in selecting the best parameters for the model\n",
    "- Partitionining the data into Training and Test sets is a form of cross validation, but that is often not robust enough\n",
    "    - We may get \"lucky\" with our test data (the model happens to work well on it, but it actually does not generalize to unseen data)\n",
    "    - By iteratively training, tuning, and retraining our model and then checking it on our test data over and over again, we essentially are using our test data for \"training\" our model"
   ]
  },
  {
   "cell_type": "markdown",
   "id": "94485f35",
   "metadata": {
    "slideshow": {
     "slide_type": "subslide"
    }
   },
   "source": [
    "### K-Fold Cross-Validation: \n",
    "\n",
    "- Divides the dataset into K distinct folds or partitions of approximately equal size\n",
    "- Uses each fold once as a validation set, while training a model on the remaining k-1 folds form the training set\n",
    "- The performance of each of the k models is measured against their respective validation set\n",
    "- The mean and variance of these k model performance metrics give us a good sense of how well the model will perform on unseen data\n",
    "    - mean: primary comparison method when comparing to other models (if it's a measure of accuracy, higher is better)\n",
    "    - variance: how robustly the model is generalizing. A high variance in model performance between folds indicates that the model is highly dependent on the specific training sample"
   ]
  },
  {
   "cell_type": "markdown",
   "id": "35e1138a",
   "metadata": {
    "slideshow": {
     "slide_type": "subslide"
    }
   },
   "source": [
    "### Special Cases of K-Fold Cross Validation\n",
    "- Leave-One-Out (LOO): A special case of k-fold cross-validation where k equals the number of observations in the dataset.\n",
    "- Stratified K-Fold: Variation of k-fold, used for classification tasks to maintain each class's ratio across each fold."
   ]
  },
  {
   "cell_type": "markdown",
   "id": "f53aec96",
   "metadata": {
    "slideshow": {
     "slide_type": "subslide"
    }
   },
   "source": [
    "### Steps for Cross Validation\n",
    "1. Split the dataset into multiple subsets (folds)\n",
    "2. For each fold, fit the model on the training folds and validate it on the remaining fold\n",
    "3. Repeat this process for each fold and collect each model's performance metric\n",
    "4. Compute mean & variance (or standard deviation) of performance metrics"
   ]
  },
  {
   "cell_type": "markdown",
   "id": "111d2757",
   "metadata": {
    "slideshow": {
     "slide_type": "subslide"
    }
   },
   "source": [
    "### When to Use Cross-Validation\n",
    "\n",
    "- Model Selection: Comparing the performance of different models\n",
    "- Feature Selection: Testing what collection of features work best\n",
    "- Hyperparameter Tuning: Testing variations in non learnable model parameters\n",
    "- Model Assessment: Estimating how well a model will generalize to an independent data set.\n",
    "    - One practice is to hold out a test partition for final model assessment and do k-fold cross validation on the remaining training data to find the optimal set of features and hyperparameters for the model"
   ]
  },
  {
   "cell_type": "markdown",
   "id": "8e3450f5",
   "metadata": {
    "slideshow": {
     "slide_type": "subslide"
    }
   },
   "source": [
    "### Advantages of Cross-Validation\n",
    "\n",
    "Reliability: Offers more stability and accuracy than a single train-test split\n",
    "Efficiency: Makes efficient use of a limited dataset, especially important in scenarios where the sample size is small\n",
    "\n",
    "### Limitations of Cross-Validation\n",
    "\n",
    "Computational Cost: Can be computationally expensive, especially with large datasets and complex models (due to this it is not typically done when training large neural networks)\n",
    "Data Imbalance: Standard cross-validation methods can be biased in presence of unbalanced data"
   ]
  },
  {
   "cell_type": "markdown",
   "id": "379ff1e6",
   "metadata": {
    "slideshow": {
     "slide_type": "subslide"
    }
   },
   "source": [
    "### Let's test out CV\n",
    "We'll use it to select the best hyperparameters for a Random Forest Model"
   ]
  },
  {
   "cell_type": "code",
   "execution_count": 22,
   "id": "3301bb84",
   "metadata": {
    "slideshow": {
     "slide_type": "fragment"
    }
   },
   "outputs": [
    {
     "name": "stdout",
     "output_type": "stream",
     "text": [
      "selected_params: {'n_estimators': 46, 'min_samples_leaf': 5, 'max_depth': 5}, train accuracy: 0.9846, test accuracy: 0.8947\n"
     ]
    }
   ],
   "source": [
    "from sklearn.model_selection import RandomizedSearchCV\n",
    "from sklearn.ensemble import RandomForestClassifier\n",
    "\n",
    "param_distributions = {\n",
    "    'n_estimators': [i for i in range(5, 101)],\n",
    "    'max_depth': [1, 3, 5],\n",
    "    'min_samples_leaf': [1, 3, 5]\n",
    "} \n",
    "rscv = RandomizedSearchCV(RandomForestClassifier(), param_distributions)\n",
    "rscv.random_state = 4\n",
    "rscv.fit(X_train, y_train)\n",
    "\n",
    "\n",
    "print(f\"selected_params: {rscv.best_params_},\",\n",
    "      f\"train accuracy: {rscv.score(X_train, y_train):.4f},\",\n",
    "      f\"test accuracy: {rscv.score(X_test, y_test):.4f}\")"
   ]
  },
  {
   "cell_type": "markdown",
   "id": "3b2647f9",
   "metadata": {
    "slideshow": {
     "slide_type": "subslide"
    }
   },
   "source": [
    "Let's take a look at the CV results"
   ]
  },
  {
   "cell_type": "code",
   "execution_count": 23,
   "id": "fb1ddfe2",
   "metadata": {
    "slideshow": {
     "slide_type": "fragment"
    }
   },
   "outputs": [
    {
     "data": {
      "text/html": [
       "<div>\n",
       "<style scoped>\n",
       "    .dataframe tbody tr th:only-of-type {\n",
       "        vertical-align: middle;\n",
       "    }\n",
       "\n",
       "    .dataframe tbody tr th {\n",
       "        vertical-align: top;\n",
       "    }\n",
       "\n",
       "    .dataframe thead th {\n",
       "        text-align: right;\n",
       "    }\n",
       "</style>\n",
       "<table border=\"1\" class=\"dataframe\">\n",
       "  <thead>\n",
       "    <tr style=\"text-align: right;\">\n",
       "      <th></th>\n",
       "      <th>mean_fit_time</th>\n",
       "      <th>std_fit_time</th>\n",
       "      <th>mean_score_time</th>\n",
       "      <th>std_score_time</th>\n",
       "      <th>param_n_estimators</th>\n",
       "      <th>param_min_samples_leaf</th>\n",
       "      <th>param_max_depth</th>\n",
       "      <th>params</th>\n",
       "      <th>split0_test_score</th>\n",
       "      <th>split1_test_score</th>\n",
       "      <th>split2_test_score</th>\n",
       "      <th>split3_test_score</th>\n",
       "      <th>split4_test_score</th>\n",
       "      <th>mean_test_score</th>\n",
       "      <th>std_test_score</th>\n",
       "      <th>rank_test_score</th>\n",
       "    </tr>\n",
       "  </thead>\n",
       "  <tbody>\n",
       "    <tr>\n",
       "      <th>0</th>\n",
       "      <td>0.108515</td>\n",
       "      <td>0.017242</td>\n",
       "      <td>0.007126</td>\n",
       "      <td>0.002651</td>\n",
       "      <td>83</td>\n",
       "      <td>5</td>\n",
       "      <td>1</td>\n",
       "      <td>{'n_estimators': 83, 'min_samples_leaf': 5, 'm...</td>\n",
       "      <td>0.923077</td>\n",
       "      <td>0.934066</td>\n",
       "      <td>0.989011</td>\n",
       "      <td>0.912088</td>\n",
       "      <td>0.934066</td>\n",
       "      <td>0.938462</td>\n",
       "      <td>0.026556</td>\n",
       "      <td>8</td>\n",
       "    </tr>\n",
       "    <tr>\n",
       "      <th>1</th>\n",
       "      <td>0.028390</td>\n",
       "      <td>0.003214</td>\n",
       "      <td>0.002198</td>\n",
       "      <td>0.000400</td>\n",
       "      <td>22</td>\n",
       "      <td>3</td>\n",
       "      <td>3</td>\n",
       "      <td>{'n_estimators': 22, 'min_samples_leaf': 3, 'm...</td>\n",
       "      <td>0.989011</td>\n",
       "      <td>0.934066</td>\n",
       "      <td>0.978022</td>\n",
       "      <td>0.934066</td>\n",
       "      <td>0.945055</td>\n",
       "      <td>0.956044</td>\n",
       "      <td>0.023051</td>\n",
       "      <td>4</td>\n",
       "    </tr>\n",
       "    <tr>\n",
       "      <th>2</th>\n",
       "      <td>0.056433</td>\n",
       "      <td>0.001352</td>\n",
       "      <td>0.003587</td>\n",
       "      <td>0.000810</td>\n",
       "      <td>46</td>\n",
       "      <td>5</td>\n",
       "      <td>5</td>\n",
       "      <td>{'n_estimators': 46, 'min_samples_leaf': 5, 'm...</td>\n",
       "      <td>0.967033</td>\n",
       "      <td>0.956044</td>\n",
       "      <td>0.978022</td>\n",
       "      <td>0.923077</td>\n",
       "      <td>0.967033</td>\n",
       "      <td>0.958242</td>\n",
       "      <td>0.018906</td>\n",
       "      <td>1</td>\n",
       "    </tr>\n",
       "    <tr>\n",
       "      <th>3</th>\n",
       "      <td>0.076652</td>\n",
       "      <td>0.020104</td>\n",
       "      <td>0.003981</td>\n",
       "      <td>0.000032</td>\n",
       "      <td>71</td>\n",
       "      <td>1</td>\n",
       "      <td>1</td>\n",
       "      <td>{'n_estimators': 71, 'min_samples_leaf': 1, 'm...</td>\n",
       "      <td>0.934066</td>\n",
       "      <td>0.934066</td>\n",
       "      <td>0.989011</td>\n",
       "      <td>0.901099</td>\n",
       "      <td>0.923077</td>\n",
       "      <td>0.936264</td>\n",
       "      <td>0.028991</td>\n",
       "      <td>9</td>\n",
       "    </tr>\n",
       "    <tr>\n",
       "      <th>4</th>\n",
       "      <td>0.052898</td>\n",
       "      <td>0.002574</td>\n",
       "      <td>0.003212</td>\n",
       "      <td>0.000395</td>\n",
       "      <td>45</td>\n",
       "      <td>1</td>\n",
       "      <td>3</td>\n",
       "      <td>{'n_estimators': 45, 'min_samples_leaf': 1, 'm...</td>\n",
       "      <td>0.967033</td>\n",
       "      <td>0.934066</td>\n",
       "      <td>0.978022</td>\n",
       "      <td>0.934066</td>\n",
       "      <td>0.956044</td>\n",
       "      <td>0.953846</td>\n",
       "      <td>0.017582</td>\n",
       "      <td>5</td>\n",
       "    </tr>\n",
       "    <tr>\n",
       "      <th>5</th>\n",
       "      <td>0.046612</td>\n",
       "      <td>0.000336</td>\n",
       "      <td>0.002989</td>\n",
       "      <td>0.000020</td>\n",
       "      <td>41</td>\n",
       "      <td>1</td>\n",
       "      <td>3</td>\n",
       "      <td>{'n_estimators': 41, 'min_samples_leaf': 1, 'm...</td>\n",
       "      <td>0.967033</td>\n",
       "      <td>0.945055</td>\n",
       "      <td>0.978022</td>\n",
       "      <td>0.934066</td>\n",
       "      <td>0.945055</td>\n",
       "      <td>0.953846</td>\n",
       "      <td>0.016150</td>\n",
       "      <td>5</td>\n",
       "    </tr>\n",
       "    <tr>\n",
       "      <th>6</th>\n",
       "      <td>0.090031</td>\n",
       "      <td>0.009930</td>\n",
       "      <td>0.004804</td>\n",
       "      <td>0.000402</td>\n",
       "      <td>59</td>\n",
       "      <td>1</td>\n",
       "      <td>5</td>\n",
       "      <td>{'n_estimators': 59, 'min_samples_leaf': 1, 'm...</td>\n",
       "      <td>0.978022</td>\n",
       "      <td>0.945055</td>\n",
       "      <td>0.978022</td>\n",
       "      <td>0.945055</td>\n",
       "      <td>0.945055</td>\n",
       "      <td>0.958242</td>\n",
       "      <td>0.016150</td>\n",
       "      <td>1</td>\n",
       "    </tr>\n",
       "    <tr>\n",
       "      <th>7</th>\n",
       "      <td>0.081219</td>\n",
       "      <td>0.007133</td>\n",
       "      <td>0.005418</td>\n",
       "      <td>0.000483</td>\n",
       "      <td>77</td>\n",
       "      <td>1</td>\n",
       "      <td>1</td>\n",
       "      <td>{'n_estimators': 77, 'min_samples_leaf': 1, 'm...</td>\n",
       "      <td>0.945055</td>\n",
       "      <td>0.934066</td>\n",
       "      <td>0.989011</td>\n",
       "      <td>0.890110</td>\n",
       "      <td>0.923077</td>\n",
       "      <td>0.936264</td>\n",
       "      <td>0.032151</td>\n",
       "      <td>9</td>\n",
       "    </tr>\n",
       "    <tr>\n",
       "      <th>8</th>\n",
       "      <td>0.039574</td>\n",
       "      <td>0.005302</td>\n",
       "      <td>0.002800</td>\n",
       "      <td>0.000750</td>\n",
       "      <td>36</td>\n",
       "      <td>3</td>\n",
       "      <td>1</td>\n",
       "      <td>{'n_estimators': 36, 'min_samples_leaf': 3, 'm...</td>\n",
       "      <td>0.956044</td>\n",
       "      <td>0.934066</td>\n",
       "      <td>0.989011</td>\n",
       "      <td>0.901099</td>\n",
       "      <td>0.923077</td>\n",
       "      <td>0.940659</td>\n",
       "      <td>0.029974</td>\n",
       "      <td>7</td>\n",
       "    </tr>\n",
       "    <tr>\n",
       "      <th>9</th>\n",
       "      <td>0.098835</td>\n",
       "      <td>0.007733</td>\n",
       "      <td>0.004826</td>\n",
       "      <td>0.000395</td>\n",
       "      <td>69</td>\n",
       "      <td>1</td>\n",
       "      <td>5</td>\n",
       "      <td>{'n_estimators': 69, 'min_samples_leaf': 1, 'm...</td>\n",
       "      <td>0.978022</td>\n",
       "      <td>0.956044</td>\n",
       "      <td>0.978022</td>\n",
       "      <td>0.934066</td>\n",
       "      <td>0.945055</td>\n",
       "      <td>0.958242</td>\n",
       "      <td>0.017582</td>\n",
       "      <td>1</td>\n",
       "    </tr>\n",
       "  </tbody>\n",
       "</table>\n",
       "</div>"
      ],
      "text/plain": [
       "   mean_fit_time  std_fit_time  mean_score_time  std_score_time  \\\n",
       "0       0.108515      0.017242         0.007126        0.002651   \n",
       "1       0.028390      0.003214         0.002198        0.000400   \n",
       "2       0.056433      0.001352         0.003587        0.000810   \n",
       "3       0.076652      0.020104         0.003981        0.000032   \n",
       "4       0.052898      0.002574         0.003212        0.000395   \n",
       "5       0.046612      0.000336         0.002989        0.000020   \n",
       "6       0.090031      0.009930         0.004804        0.000402   \n",
       "7       0.081219      0.007133         0.005418        0.000483   \n",
       "8       0.039574      0.005302         0.002800        0.000750   \n",
       "9       0.098835      0.007733         0.004826        0.000395   \n",
       "\n",
       "  param_n_estimators param_min_samples_leaf param_max_depth  \\\n",
       "0                 83                      5               1   \n",
       "1                 22                      3               3   \n",
       "2                 46                      5               5   \n",
       "3                 71                      1               1   \n",
       "4                 45                      1               3   \n",
       "5                 41                      1               3   \n",
       "6                 59                      1               5   \n",
       "7                 77                      1               1   \n",
       "8                 36                      3               1   \n",
       "9                 69                      1               5   \n",
       "\n",
       "                                              params  split0_test_score  \\\n",
       "0  {'n_estimators': 83, 'min_samples_leaf': 5, 'm...           0.923077   \n",
       "1  {'n_estimators': 22, 'min_samples_leaf': 3, 'm...           0.989011   \n",
       "2  {'n_estimators': 46, 'min_samples_leaf': 5, 'm...           0.967033   \n",
       "3  {'n_estimators': 71, 'min_samples_leaf': 1, 'm...           0.934066   \n",
       "4  {'n_estimators': 45, 'min_samples_leaf': 1, 'm...           0.967033   \n",
       "5  {'n_estimators': 41, 'min_samples_leaf': 1, 'm...           0.967033   \n",
       "6  {'n_estimators': 59, 'min_samples_leaf': 1, 'm...           0.978022   \n",
       "7  {'n_estimators': 77, 'min_samples_leaf': 1, 'm...           0.945055   \n",
       "8  {'n_estimators': 36, 'min_samples_leaf': 3, 'm...           0.956044   \n",
       "9  {'n_estimators': 69, 'min_samples_leaf': 1, 'm...           0.978022   \n",
       "\n",
       "   split1_test_score  split2_test_score  split3_test_score  split4_test_score  \\\n",
       "0           0.934066           0.989011           0.912088           0.934066   \n",
       "1           0.934066           0.978022           0.934066           0.945055   \n",
       "2           0.956044           0.978022           0.923077           0.967033   \n",
       "3           0.934066           0.989011           0.901099           0.923077   \n",
       "4           0.934066           0.978022           0.934066           0.956044   \n",
       "5           0.945055           0.978022           0.934066           0.945055   \n",
       "6           0.945055           0.978022           0.945055           0.945055   \n",
       "7           0.934066           0.989011           0.890110           0.923077   \n",
       "8           0.934066           0.989011           0.901099           0.923077   \n",
       "9           0.956044           0.978022           0.934066           0.945055   \n",
       "\n",
       "   mean_test_score  std_test_score  rank_test_score  \n",
       "0         0.938462        0.026556                8  \n",
       "1         0.956044        0.023051                4  \n",
       "2         0.958242        0.018906                1  \n",
       "3         0.936264        0.028991                9  \n",
       "4         0.953846        0.017582                5  \n",
       "5         0.953846        0.016150                5  \n",
       "6         0.958242        0.016150                1  \n",
       "7         0.936264        0.032151                9  \n",
       "8         0.940659        0.029974                7  \n",
       "9         0.958242        0.017582                1  "
      ]
     },
     "execution_count": 23,
     "metadata": {},
     "output_type": "execute_result"
    }
   ],
   "source": [
    "pd.DataFrame(rscv.cv_results_)"
   ]
  },
  {
   "cell_type": "code",
   "execution_count": null,
   "id": "80f2f669",
   "metadata": {},
   "outputs": [],
   "source": []
  }
 ],
 "metadata": {
  "celltoolbar": "Slideshow",
  "kernelspec": {
   "display_name": "Python 3 (ipykernel)",
   "language": "python",
   "name": "python3"
  },
  "language_info": {
   "codemirror_mode": {
    "name": "ipython",
    "version": 3
   },
   "file_extension": ".py",
   "mimetype": "text/x-python",
   "name": "python",
   "nbconvert_exporter": "python",
   "pygments_lexer": "ipython3",
   "version": "3.9.13"
  }
 },
 "nbformat": 4,
 "nbformat_minor": 5
}
