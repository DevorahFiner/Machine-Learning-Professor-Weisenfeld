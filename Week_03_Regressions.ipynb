{
 "cells": [
  {
   "cell_type": "code",
   "execution_count": 1,
   "id": "bad9d7ab",
   "metadata": {
    "slideshow": {
     "slide_type": "skip"
    }
   },
   "outputs": [],
   "source": [
    "import numpy as np, pandas as pd, seaborn as sns, matplotlib.pyplot as plt\n",
    "sns.set()\n",
    "sns.set_style(\"darkgrid\")"
   ]
  },
  {
   "cell_type": "markdown",
   "id": "914218d0",
   "metadata": {
    "slideshow": {
     "slide_type": "slide"
    }
   },
   "source": [
    "# Welcome to Machine Learning - Week 3\n",
    "Instructor - Daniel Wiesenfeld"
   ]
  },
  {
   "cell_type": "markdown",
   "id": "2244b588",
   "metadata": {
    "slideshow": {
     "slide_type": "subslide"
    }
   },
   "source": [
    "**Today's Lecture:**\n",
    "- A Deeper Look at Linear Regressions\n",
    "- Solving Linear Regression with Linear Algebra\n",
    "- Linear Regression Variants\n",
    "- Logistic Regression\n",
    "- Gradient Descent"
   ]
  },
  {
   "cell_type": "markdown",
   "id": "c2defa36",
   "metadata": {
    "slideshow": {
     "slide_type": "slide"
    }
   },
   "source": [
    "## A Deeper Look at Regression\n",
    "- While often viewed as a simplistic \"Statistics\" model, Linear Regression is a fundamental building block of deep learning\n",
    "- It's important to understand fundamentally what Linear Regression assumes, what it does, how it does it, and how to beef it up\n",
    "- It's also important to understand what it doesn't do."
   ]
  },
  {
   "attachments": {
    "image.png": {
     "image/png": "[encoded data removed]"
    }
   },
   "cell_type": "markdown",
   "id": "c789b073",
   "metadata": {
    "slideshow": {
     "slide_type": "subslide"
    }
   },
   "source": [
    "### What Does Linear Regression NOT do?\n",
    "\n",
    "- It's tempting to say that linear regression finds the line (or the equation of the line) that best fits the data points.\n",
    "- Bit this is NOT true!\n",
    "![image.png](attachment:image.png)\n",
    "source: https://mathworld.wolfram.com/LeastSquaresFittingPerpendicularOffsets.html\n",
    "- The image on the right shows an illustration of a line that minimizes the distance between the line and each point. This is what the best fitting line would be. (This is also known as orthogonal regression)\n",
    "- The image on the left is what linear regression actually does. It minimizes the distance of the line to the points **along the y axis**\n",
    "- More precisely, it minimizes the sum of the squares of the distances along the y axis. Which is why you may hear this algorithm referred to as Least Squares Regression, or Ordinary Least Squares Regression\n",
    "\n",
    "Why do you think this is?"
   ]
  },
  {
   "cell_type": "markdown",
   "id": "b02a0c78",
   "metadata": {
    "slideshow": {
     "slide_type": "subslide"
    }
   },
   "source": [
    "### What Does Linear Regression Assume?\n",
    "\n",
    "Linear Regression assumes that your $y$ vector was generates by a very specific stochastic process:\n",
    "\n",
    "$$ y = X\\beta + r, r \\sim \\mathcal{N}(0, \\sigma^2),$$ \n",
    "\n",
    "where $\\mathcal{N}(0, \\sigma^2)$ is a normal distribution with mean $0$ and variance $\\sigma^2$ (Also, we're assuming that a column of $X$ is all $1$'s)\n",
    "\n",
    "Essentially, it is saying that y is a linear function of $X$ plus some random residual (error) that is normally distributed with a mean of 0 and a standard deviation of $\\sigma$. Each residual element is an i.i.d. random variable and cannot be predicted by $X$\n",
    "\n",
    "Formally, we say that linear regression assumes four things:\n",
    "1. Linearity (y is a linear function of X plus an error)\n",
    "2. Homoskedasticity (The variance of the error is constant for each observation of X)\n",
    "3. Independence (Each observation of X is independent of each other)\n",
    "4. Normality (the value of y is normally distributed for At any X observation)\n",
    "\n",
    "In practice, the field of statistics is much more concerne than the field of ML regarding violating these assumptions. The goal in ML is to generate generalizable predictions. We test for that using cross validation and test sets. That said, understanding this and dealing with it can help you develop a better model."
   ]
  },
  {
   "cell_type": "markdown",
   "id": "88a89aaf",
   "metadata": {
    "slideshow": {
     "slide_type": "subslide"
    }
   },
   "source": [
    "### What Does Linear Regression Do?\n",
    "- Linear regression tries to find $\\hat\\beta$ (estimated values of the true coefficients of a linear function) that minimize the square of the sum of $r$ given the data (Known as RSS)\n",
    "$$\\hat\\beta = \\text{arg min}_\\hat\\beta \\quad \\|X\\hat\\beta - y\\|^2_2$$\n",
    "- In doing so it also minimizes $\\hat\\sigma^2$\n",
    "- $\\hat\\sigma$ is sometimes referred to as $s$ and $\\hat\\beta$ i sometimes referenced as $b$"
   ]
  },
  {
   "cell_type": "markdown",
   "id": "1853cfe5",
   "metadata": {
    "slideshow": {
     "slide_type": "subslide"
    }
   },
   "source": [
    "### How Does It Do That?\n",
    "\n",
    "Multiple ways!\n",
    "- Mathematically: By solving $\\hat\\beta = (X^\\top X)^{-1}X^\\top y $\n",
    "- Iteratively through various algorithms, such as gradient descent or coordinate descent"
   ]
  },
  {
   "cell_type": "markdown",
   "id": "f55f073c",
   "metadata": {
    "slideshow": {
     "slide_type": "slide"
    }
   },
   "source": [
    "### Let's test out a few versions of prediction with regression models\n",
    "\n",
    "Let's try this with some financial data where we'll try predict an unemployment rates\n",
    "(Note: this data was gathered quarterly, but we're purposely ignoring the time series element to just see if we can predict unemployment given other concurrent financial metrics)"
   ]
  },
  {
   "cell_type": "code",
   "execution_count": 2,
   "id": "b32b059c",
   "metadata": {
    "slideshow": {
     "slide_type": "subslide"
    }
   },
   "outputs": [
    {
     "data": {
      "text/html": [
       "<div>\n",
       "<style scoped>\n",
       "    .dataframe tbody tr th:only-of-type {\n",
       "        vertical-align: middle;\n",
       "    }\n",
       "\n",
       "    .dataframe tbody tr th {\n",
       "        vertical-align: top;\n",
       "    }\n",
       "\n",
       "    .dataframe thead th {\n",
       "        text-align: right;\n",
       "    }\n",
       "</style>\n",
       "<table border=\"1\" class=\"dataframe\">\n",
       "  <thead>\n",
       "    <tr style=\"text-align: right;\">\n",
       "      <th></th>\n",
       "      <th>realgdp</th>\n",
       "      <th>realcons</th>\n",
       "      <th>realinv</th>\n",
       "      <th>realgovt</th>\n",
       "      <th>realdpi</th>\n",
       "      <th>cpi</th>\n",
       "      <th>m1</th>\n",
       "      <th>tbilrate</th>\n",
       "      <th>unemp</th>\n",
       "      <th>pop</th>\n",
       "      <th>infl</th>\n",
       "      <th>realint</th>\n",
       "    </tr>\n",
       "  </thead>\n",
       "  <tbody>\n",
       "    <tr>\n",
       "      <th>0</th>\n",
       "      <td>2710.349</td>\n",
       "      <td>1707.4</td>\n",
       "      <td>286.898</td>\n",
       "      <td>470.045</td>\n",
       "      <td>1886.9</td>\n",
       "      <td>28.980</td>\n",
       "      <td>139.7</td>\n",
       "      <td>2.82</td>\n",
       "      <td>5.8</td>\n",
       "      <td>177.146</td>\n",
       "      <td>0.00</td>\n",
       "      <td>0.00</td>\n",
       "    </tr>\n",
       "    <tr>\n",
       "      <th>1</th>\n",
       "      <td>2778.801</td>\n",
       "      <td>1733.7</td>\n",
       "      <td>310.859</td>\n",
       "      <td>481.301</td>\n",
       "      <td>1919.7</td>\n",
       "      <td>29.150</td>\n",
       "      <td>141.7</td>\n",
       "      <td>3.08</td>\n",
       "      <td>5.1</td>\n",
       "      <td>177.830</td>\n",
       "      <td>2.34</td>\n",
       "      <td>0.74</td>\n",
       "    </tr>\n",
       "    <tr>\n",
       "      <th>2</th>\n",
       "      <td>2775.488</td>\n",
       "      <td>1751.8</td>\n",
       "      <td>289.226</td>\n",
       "      <td>491.260</td>\n",
       "      <td>1916.4</td>\n",
       "      <td>29.350</td>\n",
       "      <td>140.5</td>\n",
       "      <td>3.82</td>\n",
       "      <td>5.3</td>\n",
       "      <td>178.657</td>\n",
       "      <td>2.74</td>\n",
       "      <td>1.09</td>\n",
       "    </tr>\n",
       "    <tr>\n",
       "      <th>3</th>\n",
       "      <td>2785.204</td>\n",
       "      <td>1753.7</td>\n",
       "      <td>299.356</td>\n",
       "      <td>484.052</td>\n",
       "      <td>1931.3</td>\n",
       "      <td>29.370</td>\n",
       "      <td>140.0</td>\n",
       "      <td>4.33</td>\n",
       "      <td>5.6</td>\n",
       "      <td>179.386</td>\n",
       "      <td>0.27</td>\n",
       "      <td>4.06</td>\n",
       "    </tr>\n",
       "    <tr>\n",
       "      <th>4</th>\n",
       "      <td>2847.699</td>\n",
       "      <td>1770.5</td>\n",
       "      <td>331.722</td>\n",
       "      <td>462.199</td>\n",
       "      <td>1955.5</td>\n",
       "      <td>29.540</td>\n",
       "      <td>139.6</td>\n",
       "      <td>3.50</td>\n",
       "      <td>5.2</td>\n",
       "      <td>180.007</td>\n",
       "      <td>2.31</td>\n",
       "      <td>1.19</td>\n",
       "    </tr>\n",
       "    <tr>\n",
       "      <th>...</th>\n",
       "      <td>...</td>\n",
       "      <td>...</td>\n",
       "      <td>...</td>\n",
       "      <td>...</td>\n",
       "      <td>...</td>\n",
       "      <td>...</td>\n",
       "      <td>...</td>\n",
       "      <td>...</td>\n",
       "      <td>...</td>\n",
       "      <td>...</td>\n",
       "      <td>...</td>\n",
       "      <td>...</td>\n",
       "    </tr>\n",
       "    <tr>\n",
       "      <th>198</th>\n",
       "      <td>13324.600</td>\n",
       "      <td>9267.7</td>\n",
       "      <td>1990.693</td>\n",
       "      <td>991.551</td>\n",
       "      <td>9838.3</td>\n",
       "      <td>216.889</td>\n",
       "      <td>1474.7</td>\n",
       "      <td>1.17</td>\n",
       "      <td>6.0</td>\n",
       "      <td>305.270</td>\n",
       "      <td>-3.16</td>\n",
       "      <td>4.33</td>\n",
       "    </tr>\n",
       "    <tr>\n",
       "      <th>199</th>\n",
       "      <td>13141.920</td>\n",
       "      <td>9195.3</td>\n",
       "      <td>1857.661</td>\n",
       "      <td>1007.273</td>\n",
       "      <td>9920.4</td>\n",
       "      <td>212.174</td>\n",
       "      <td>1576.5</td>\n",
       "      <td>0.12</td>\n",
       "      <td>6.9</td>\n",
       "      <td>305.952</td>\n",
       "      <td>-8.79</td>\n",
       "      <td>8.91</td>\n",
       "    </tr>\n",
       "    <tr>\n",
       "      <th>200</th>\n",
       "      <td>12925.410</td>\n",
       "      <td>9209.2</td>\n",
       "      <td>1558.494</td>\n",
       "      <td>996.287</td>\n",
       "      <td>9926.4</td>\n",
       "      <td>212.671</td>\n",
       "      <td>1592.8</td>\n",
       "      <td>0.22</td>\n",
       "      <td>8.1</td>\n",
       "      <td>306.547</td>\n",
       "      <td>0.94</td>\n",
       "      <td>-0.71</td>\n",
       "    </tr>\n",
       "    <tr>\n",
       "      <th>201</th>\n",
       "      <td>12901.504</td>\n",
       "      <td>9189.0</td>\n",
       "      <td>1456.678</td>\n",
       "      <td>1023.528</td>\n",
       "      <td>10077.5</td>\n",
       "      <td>214.469</td>\n",
       "      <td>1653.6</td>\n",
       "      <td>0.18</td>\n",
       "      <td>9.2</td>\n",
       "      <td>307.226</td>\n",
       "      <td>3.37</td>\n",
       "      <td>-3.19</td>\n",
       "    </tr>\n",
       "    <tr>\n",
       "      <th>202</th>\n",
       "      <td>12990.341</td>\n",
       "      <td>9256.0</td>\n",
       "      <td>1486.398</td>\n",
       "      <td>1044.088</td>\n",
       "      <td>10040.6</td>\n",
       "      <td>216.385</td>\n",
       "      <td>1673.9</td>\n",
       "      <td>0.12</td>\n",
       "      <td>9.6</td>\n",
       "      <td>308.013</td>\n",
       "      <td>3.56</td>\n",
       "      <td>-3.44</td>\n",
       "    </tr>\n",
       "  </tbody>\n",
       "</table>\n",
       "<p>203 rows × 12 columns</p>\n",
       "</div>"
      ],
      "text/plain": [
       "       realgdp  realcons   realinv  realgovt  realdpi      cpi      m1  \\\n",
       "0     2710.349    1707.4   286.898   470.045   1886.9   28.980   139.7   \n",
       "1     2778.801    1733.7   310.859   481.301   1919.7   29.150   141.7   \n",
       "2     2775.488    1751.8   289.226   491.260   1916.4   29.350   140.5   \n",
       "3     2785.204    1753.7   299.356   484.052   1931.3   29.370   140.0   \n",
       "4     2847.699    1770.5   331.722   462.199   1955.5   29.540   139.6   \n",
       "..         ...       ...       ...       ...      ...      ...     ...   \n",
       "198  13324.600    9267.7  1990.693   991.551   9838.3  216.889  1474.7   \n",
       "199  13141.920    9195.3  1857.661  1007.273   9920.4  212.174  1576.5   \n",
       "200  12925.410    9209.2  1558.494   996.287   9926.4  212.671  1592.8   \n",
       "201  12901.504    9189.0  1456.678  1023.528  10077.5  214.469  1653.6   \n",
       "202  12990.341    9256.0  1486.398  1044.088  10040.6  216.385  1673.9   \n",
       "\n",
       "     tbilrate  unemp      pop  infl  realint  \n",
       "0        2.82    5.8  177.146  0.00     0.00  \n",
       "1        3.08    5.1  177.830  2.34     0.74  \n",
       "2        3.82    5.3  178.657  2.74     1.09  \n",
       "3        4.33    5.6  179.386  0.27     4.06  \n",
       "4        3.50    5.2  180.007  2.31     1.19  \n",
       "..        ...    ...      ...   ...      ...  \n",
       "198      1.17    6.0  305.270 -3.16     4.33  \n",
       "199      0.12    6.9  305.952 -8.79     8.91  \n",
       "200      0.22    8.1  306.547  0.94    -0.71  \n",
       "201      0.18    9.2  307.226  3.37    -3.19  \n",
       "202      0.12    9.6  308.013  3.56    -3.44  \n",
       "\n",
       "[203 rows x 12 columns]"
      ]
     },
     "execution_count": 2,
     "metadata": {},
     "output_type": "execute_result"
    }
   ],
   "source": [
    "from statsmodels.api import OLS, datasets, add_constant\n",
    "#df = pd.DataFrame(datasets.macrodata.load().data)[['realgdp', 'realcons', 'realgovt', 'realdpi', 'cpi', 'm1', 'pop', 'unemp']]\n",
    "df = pd.DataFrame(datasets.macrodata.load().data).drop(columns = ['year', 'quarter', ])\n",
    "df"
   ]
  },
  {
   "cell_type": "markdown",
   "id": "80ad4a76",
   "metadata": {
    "slideshow": {
     "slide_type": "subslide"
    }
   },
   "source": [
    "Let's split to train and test sets"
   ]
  },
  {
   "cell_type": "code",
   "execution_count": 3,
   "id": "78cbccf1",
   "metadata": {
    "slideshow": {
     "slide_type": "fragment"
    }
   },
   "outputs": [],
   "source": [
    "from sklearn.model_selection import train_test_split\n",
    "X_train, X_test, y_train, y_test = train_test_split(df.drop(columns = 'unemp').pipe(add_constant), \n",
    "                                                    df['unemp'], test_size = 0.2, random_state = 36)"
   ]
  },
  {
   "cell_type": "markdown",
   "id": "e2bde617",
   "metadata": {
    "slideshow": {
     "slide_type": "subslide"
    }
   },
   "source": [
    "### Linear Regression With Linear Algebra"
   ]
  },
  {
   "cell_type": "code",
   "execution_count": 5,
   "id": "588886f9",
   "metadata": {
    "slideshow": {
     "slide_type": "fragment"
    }
   },
   "outputs": [
    {
     "data": {
      "text/plain": [
       "const      -19.732452\n",
       "realgdp     -0.011257\n",
       "realcons     0.008199\n",
       "realinv     -0.000286\n",
       "realgovt    -0.002562\n",
       "realdpi      0.002813\n",
       "cpi          0.088898\n",
       "m1          -0.004693\n",
       "tbilrate     0.099137\n",
       "pop          0.202246\n",
       "infl        -0.159362\n",
       "realint     -0.166410\n",
       "dtype: float64"
      ]
     },
     "execution_count": 5,
     "metadata": {},
     "output_type": "execute_result"
    }
   ],
   "source": [
    "b = np.linalg.inv(X_train.T @ X_train) @ X_train.T @ y_train\n",
    "b.index = X_train.columns\n",
    "b"
   ]
  },
  {
   "cell_type": "markdown",
   "id": "4e935455",
   "metadata": {
    "slideshow": {
     "slide_type": "subslide"
    }
   },
   "source": [
    "### Linear Regression with Sklearn"
   ]
  },
  {
   "cell_type": "code",
   "execution_count": 5,
   "id": "c2fe69c1",
   "metadata": {
    "slideshow": {
     "slide_type": "fragment"
    }
   },
   "outputs": [
    {
     "data": {
      "text/plain": [
       "const      -19.732452\n",
       "realgdp     -0.011257\n",
       "realcons     0.008199\n",
       "realinv     -0.000286\n",
       "realgovt    -0.002562\n",
       "realdpi      0.002813\n",
       "cpi          0.088898\n",
       "m1          -0.004693\n",
       "tbilrate     0.099137\n",
       "pop          0.202246\n",
       "infl        -0.159362\n",
       "realint     -0.166410\n",
       "dtype: float64"
      ]
     },
     "execution_count": 5,
     "metadata": {},
     "output_type": "execute_result"
    }
   ],
   "source": [
    "from sklearn.linear_model import LinearRegression\n",
    "reg = LinearRegression(fit_intercept = False)\n",
    "reg.fit(X_train, y_train)\n",
    "b = pd.Series(reg.coef_)\n",
    "b.index = X_train.columns\n",
    "b"
   ]
  },
  {
   "cell_type": "markdown",
   "id": "54ef982d",
   "metadata": {},
   "source": [
    "## Regression Variants"
   ]
  },
  {
   "cell_type": "markdown",
   "id": "df9a0894",
   "metadata": {
    "slideshow": {
     "slide_type": "subslide"
    }
   },
   "source": [
    "### Now let's try some cross validation to compare these results with other versions of regression\n",
    "\n",
    "Let's start by standardizing the features"
   ]
  },
  {
   "cell_type": "code",
   "execution_count": 4,
   "id": "0ebc7ab4",
   "metadata": {
    "slideshow": {
     "slide_type": "fragment"
    }
   },
   "outputs": [],
   "source": [
    "from sklearn.preprocessing import StandardScaler\n",
    "scaler = StandardScaler()\n",
    "X_trn_sc = scaler.fit_transform(np.array(X_train.iloc[:, 1:]))\n",
    "X_tst_sc = scaler.transform(np.array(X_test.iloc[:, 1:]))"
   ]
  },
  {
   "cell_type": "markdown",
   "id": "93c12322",
   "metadata": {
    "slideshow": {
     "slide_type": "subslide"
    }
   },
   "source": [
    "Now let's reapply OLS on the standardized features, and look at the cross validation score"
   ]
  },
  {
   "cell_type": "code",
   "execution_count": 8,
   "id": "8e60e887",
   "metadata": {
    "scrolled": true,
    "slideshow": {
     "slide_type": "fragment"
    }
   },
   "outputs": [
    {
     "name": "stdout",
     "output_type": "stream",
     "text": [
      "train_score=0.8824059787026652\n",
      "cross_val_scores=[0.8306709190535582, 0.9131451502050763, 0.9132103439658548, 0.3749813724434222, 0.7013544794251274]\n",
      "mean_cross_val_scores=0.7466724530186079, stdev_cross_val_score=0.2013513091269525\n",
      "test_score=0.8536076220172343\n",
      "coefs=[-36.85508058  19.33669223  -0.17191362  -0.35833105   6.94822184\n",
      "   5.50849037  -2.15546414   0.26863927   7.69243432  -0.51462923\n",
      "  -0.45229842]\n"
     ]
    }
   ],
   "source": [
    "from sklearn.model_selection import cross_val_score\n",
    "from cross_val import CV\n",
    "reg = LinearRegression()\n",
    "cvreg = CV(k=5, model = reg, random_seed = 36)\n",
    "reg_cv_scores = cvreg.fit(X_trn_sc, y_train).scores\n",
    "reg_train_score = cvreg.score(X_trn_sc, y_train)\n",
    "reg_test_score = cvreg.score(X_tst_sc, y_test)\n",
    "print(f\"train_score={reg_train_score}\")\n",
    "print(f\"cross_val_scores={reg_cv_scores}\")\n",
    "print(f\"mean_cross_val_scores={np.mean(reg_cv_scores)}, stdev_cross_val_score={np.std(reg_cv_scores)}\")\n",
    "print(f\"test_score={reg_test_score}\")\n",
    "print(f\"coefs={cvreg.model.coef_}\")"
   ]
  },
  {
   "cell_type": "markdown",
   "id": "82f09050",
   "metadata": {
    "slideshow": {
     "slide_type": "fragment"
    }
   },
   "source": [
    "There seems to be some overfitting going on (training vs CV results) as well as possibly some evidence that LR might not be the right model structure at all.\n",
    "\n",
    "Let's try to regularize the coefficients"
   ]
  },
  {
   "cell_type": "markdown",
   "id": "2740e174",
   "metadata": {
    "slideshow": {
     "slide_type": "subslide"
    }
   },
   "source": [
    "### Ridge Regression\n",
    "\n",
    "- Ridge regression attempts to reduce variance by penalizing the RSS with the L2 norm of the coefficients:\n",
    "$$\\text{arg min}_\\beta \\quad \\|X\\beta - y\\|^2_2 + \\alpha \\|\\beta\\|^2_2$$\n",
    "- $\\alpha$ is determined before fitting the model, the greater $\\alpha$, the greater the penalty\n",
    "- We can find a good $\\alpha$ by using cross validation"
   ]
  },
  {
   "cell_type": "code",
   "execution_count": 9,
   "id": "490d49c0",
   "metadata": {
    "slideshow": {
     "slide_type": "fragment"
    }
   },
   "outputs": [
    {
     "name": "stdout",
     "output_type": "stream",
     "text": [
      "alpha=0.001\n",
      "train_score=0.882256071947597\n",
      "cross_val_scores=[0.8312024621956395, 0.9114946641348646, 0.910389984045133, 0.8644877368390702, 0.70633875647525]\n",
      "mean_cross_val_scores=0.8447827207379914, stdev_cross_val_score=0.07549071295575945\n",
      "test_score=0.8547777693932221\n",
      "coefs=[-35.7712772   18.42116417  -0.29233446  -0.37998752   7.2449352\n",
      "   5.49226481  -2.18624832   0.25187874   7.40680596  -0.50130259\n",
      "  -0.43683986]\n"
     ]
    }
   ],
   "source": [
    "from sklearn.linear_model import RidgeCV, Ridge\n",
    "rcvreg = RidgeCV(alphas = [0.001, 0.01, 0.1, 1, 10, 20, 50, 100, 200])\n",
    "rcvreg.fit(X_trn_sc, y_train)\n",
    "rreg = Ridge(alpha=rcvreg.alpha_)\n",
    "cvrreg = CV(k=5, model = rreg, random_seed = 36)\n",
    "rreg_cv_scores = cvrreg.fit(X_trn_sc, y_train).scores\n",
    "rreg_train_score = cvrreg.score(X_trn_sc, y_train)\n",
    "rreg_test_score = cvrreg.score(X_tst_sc, y_test)\n",
    "print(f\"alpha={rcvreg.alpha_}\")\n",
    "print(f\"train_score={rreg_train_score}\")\n",
    "print(f\"cross_val_scores={rreg_cv_scores}\")\n",
    "print(f\"mean_cross_val_scores={np.mean(rreg_cv_scores)}, stdev_cross_val_score={np.std(rreg_cv_scores)}\")\n",
    "print(f\"test_score={rreg_test_score}\")\n",
    "print(f\"coefs={cvrreg.model.coef_}\")"
   ]
  },
  {
   "cell_type": "markdown",
   "id": "276838c2",
   "metadata": {
    "slideshow": {
     "slide_type": "fragment"
    }
   },
   "source": [
    "Look how much even a small alpha can improve the cross validation."
   ]
  },
  {
   "cell_type": "markdown",
   "id": "fe7469b2",
   "metadata": {
    "slideshow": {
     "slide_type": "subslide"
    }
   },
   "source": [
    "#### Note Ridge Regression can be solved using Linear Algebra as well:\n",
    "$$\\hat\\beta = (X^\\top X + \\alpha I)^{-1} X^\\top y$$"
   ]
  },
  {
   "cell_type": "code",
   "execution_count": 10,
   "id": "cff9f690",
   "metadata": {
    "slideshow": {
     "slide_type": "fragment"
    }
   },
   "outputs": [
    {
     "data": {
      "text/plain": [
       "array([-35.7712772 ,  18.42116417,  -0.29233446,  -0.37998752,\n",
       "         7.2449352 ,   5.49226481,  -2.18624832,   0.25187874,\n",
       "         7.40680596,  -0.50130259,  -0.43683986])"
      ]
     },
     "execution_count": 10,
     "metadata": {},
     "output_type": "execute_result"
    }
   ],
   "source": [
    "alpha = 0.001\n",
    "np.linalg.inv(X_trn_sc.T @ X_trn_sc + alpha * np.identity(X_trn_sc.shape[1])) @ X_trn_sc.T @ y_train"
   ]
  },
  {
   "cell_type": "markdown",
   "id": "07d5af86",
   "metadata": {
    "slideshow": {
     "slide_type": "subslide"
    }
   },
   "source": [
    "### LASSO Regression\n",
    "- **L**east **A**bsolute **S**hrinkage and **S**election **O**perator\n",
    "- LASSO regression attempts to reduce variance by penalizing RSS with the L1 norm of the coefficients:\n",
    "$$\\text{arg min}_\\beta \\quad \\|X\\beta - y\\|^2_2 + \\alpha \\|\\beta\\|^1_1$$\n",
    "- This sometimes causes some coefficients to be zeroed out, so it is also an embedded feature selection technique\n",
    "- $\\alpha$ is determined before fitting the model, the greater $\\alpha$, the greater the penalty\n",
    "- We can find a good $\\alpha$ by using cross validation\n",
    "- LASSO Regression can only be solved iteratively (coordinate descent used by Scikit-Learn)"
   ]
  },
  {
   "cell_type": "code",
   "execution_count": 11,
   "id": "14e93cdc",
   "metadata": {
    "slideshow": {
     "slide_type": "fragment"
    }
   },
   "outputs": [
    {
     "name": "stdout",
     "output_type": "stream",
     "text": [
      "alpha=0.0005424466773292844\n",
      "train_score=0.8777547968630456\n",
      "cross_val_scores=[0.826590214393232, 0.8997467148779605, 0.897277312241183, 0.863907462835715, 0.7213321708270508]\n",
      "mean_cross_val_scores=0.8417707750350282, stdev_cross_val_score=0.06583027422856404\n",
      "test_score=0.8544562856081227\n",
      "coefs=[-31.00714652  14.6067599   -0.78318415  -0.46900585   8.30250665\n",
      "   5.30274961  -2.16310688  -0.           6.11017787  -0.20383988\n",
      "  -0.16679019]\n"
     ]
    }
   ],
   "source": [
    "from sklearn.linear_model import LassoCV, Lasso\n",
    "lcvreg = LassoCV(max_iter = 1000000)\n",
    "lcvreg.fit(X_trn_sc, y_train)\n",
    "lreg = Lasso(alpha=rcvreg.alpha_, max_iter = 1000000)\n",
    "cvlreg = CV(k=5, model = lreg, random_seed = 36)\n",
    "lreg_cv_scores = cvlreg.fit(X_trn_sc, y_train).scores\n",
    "lreg_train_score = cvlreg.score(X_trn_sc, y_train)\n",
    "lreg_test_score = cvlreg.score(X_tst_sc, y_test)\n",
    "print(f\"alpha={lcvreg.alpha_}\")\n",
    "print(f\"train_score={lreg_train_score}\")\n",
    "print(f\"cross_val_scores={lreg_cv_scores}\")\n",
    "print(f\"mean_cross_val_scores={np.mean(lreg_cv_scores)}, stdev_cross_val_score={np.std(lreg_cv_scores)}\")\n",
    "print(f\"test_score={lreg_test_score}\")\n",
    "print(f\"coefs={cvlreg.model.coef_}\")"
   ]
  },
  {
   "cell_type": "markdown",
   "id": "d8c54c76",
   "metadata": {
    "slideshow": {
     "slide_type": "fragment"
    }
   },
   "source": [
    "It doesn't do quite as well as Ridge, but it does improve OLS Dramatically"
   ]
  },
  {
   "cell_type": "markdown",
   "id": "cbe61cd7",
   "metadata": {
    "slideshow": {
     "slide_type": "subslide"
    }
   },
   "source": [
    "### Elastic Net Regression\n",
    "- Combines LASSO and Ridge Regressions\n",
    "$$\\text{arg min}_\\beta \\quad \\|X\\beta - y\\|^2_2 + \\alpha_1 \\|\\beta\\|^1_1 + \\alpha_2 \\|\\beta\\|^2_2$$\n",
    "- This sometimes causes some coefficients to be zeroed out, so it is also an embedded feature selection technique\n",
    "- $\\alpha$ values are determined before fitting the model, the greater each $\\alpha$, the greater each penalty\n",
    "- We can find good $\\alpha$s by using cross validation"
   ]
  },
  {
   "cell_type": "code",
   "execution_count": 12,
   "id": "1fe08735",
   "metadata": {
    "slideshow": {
     "slide_type": "fragment"
    }
   },
   "outputs": [
    {
     "name": "stdout",
     "output_type": "stream",
     "text": [
      "alpha=0.0005424466773292844, l1_ratio=1.0\n",
      "train_score=0.8809036587421397\n",
      "cross_val_scores=[0.8292178002986689, 0.906883768224431, 0.9063657252265905, 0.869300204864578, 0.7138384432971245]\n",
      "mean_cross_val_scores=0.8451211883822787, stdev_cross_val_score=0.07160755729630118\n",
      "test_score=0.856535265955282\n",
      "coefs=[-33.65040531  16.71111453  -0.50653999  -0.42176862   7.73923154\n",
      "   5.41680554  -2.1616483    0.           6.79157285  -0.20151719\n",
      "  -0.17630756]\n"
     ]
    }
   ],
   "source": [
    "from sklearn.linear_model import ElasticNetCV, ElasticNet\n",
    "ecvreg = ElasticNetCV(max_iter = 100000, l1_ratio = [.1, .5, .7, .9, .95, .99, 1])\n",
    "ecvreg.fit(X_trn_sc, y_train)\n",
    "ereg = ElasticNet(alpha=ecvreg.alpha_, l1_ratio = ecvreg.l1_ratio_, max_iter = 100000)\n",
    "cvereg = CV(k=5, model = ereg, random_seed = 36)\n",
    "ereg_cv_scores = cvereg.fit(X_trn_sc, y_train).scores\n",
    "ereg_train_score = cvereg.score(X_trn_sc, y_train)\n",
    "ereg_test_score = cvereg.score(X_tst_sc, y_test)\n",
    "print(f\"alpha={ecvreg.alpha_}, l1_ratio={ecvreg.l1_ratio_}\")\n",
    "print(f\"train_score={ereg_train_score}\")\n",
    "print(f\"cross_val_scores={ereg_cv_scores}\")\n",
    "print(f\"mean_cross_val_scores={np.mean(ereg_cv_scores)}, stdev_cross_val_score={np.std(ereg_cv_scores)}\")\n",
    "print(f\"test_score={ereg_test_score}\")\n",
    "print(f\"coefs={cvereg.model.coef_}\")"
   ]
  },
  {
   "cell_type": "markdown",
   "id": "a7801114",
   "metadata": {
    "slideshow": {
     "slide_type": "subslide"
    }
   },
   "source": [
    "### RFE Attempt instead with regular Linear Regression"
   ]
  },
  {
   "cell_type": "code",
   "execution_count": 13,
   "id": "1688da93",
   "metadata": {
    "slideshow": {
     "slide_type": "fragment"
    }
   },
   "outputs": [
    {
     "name": "stdout",
     "output_type": "stream",
     "text": [
      "train_score=0.8672432466400626\n",
      "cross_val_scores=[0.8169197189000276, 0.7845355922066332, -0.186108262201107, 0.8391565767213721, 0.7833686463338303]\n",
      "mean_cross_val_scores=0.6075744543921513, stdev_cross_val_score=0.3973932098036546\n",
      "test_score=0.8113264613225294\n",
      "coefs=[-38.68703986  22.84919918   4.48606952   5.00917028  -1.86150314\n",
      "   8.2443742 ]\n"
     ]
    }
   ],
   "source": [
    "from sklearn.feature_selection import RFECV\n",
    "rfecv = RFECV(reg).fit(X_trn_sc, y_train)\n",
    "rfecv.fit(X_trn_sc, y_train)\n",
    "cvrfe = CV(k=5, model = rfecv, random_seed = 18)\n",
    "cvrfe_cv_scores = cvrfe.fit(X_trn_sc, y_train).scores\n",
    "cvrfe_train_score = cvrfe.score(X_trn_sc, y_train)\n",
    "cvrfe_test_score = cvrfe.score(X_tst_sc, y_test)\n",
    "print(f\"train_score={cvrfe_train_score}\")\n",
    "print(f\"cross_val_scores={cvrfe_cv_scores}\")\n",
    "print(f\"mean_cross_val_scores={np.mean(cvrfe_cv_scores)}, stdev_cross_val_score={np.std(cvrfe_cv_scores)}\")\n",
    "print(f\"test_score={cvrfe_test_score}\")\n",
    "print(f\"coefs={cvrfe.model.estimator_.coef_}\")"
   ]
  },
  {
   "cell_type": "markdown",
   "id": "29ceb91d",
   "metadata": {
    "slideshow": {
     "slide_type": "fragment"
    }
   },
   "source": [
    "Does not seem to have worked well"
   ]
  },
  {
   "cell_type": "markdown",
   "id": "da36b526",
   "metadata": {
    "slideshow": {
     "slide_type": "slide"
    }
   },
   "source": [
    "### Non Linear Regression Models\n",
    "\n",
    "It's worth considering non linear regression models. Further analysis of the residual and relationships between each feature and the target, as well as inter-feature relationships, can potentially lead to the perfect non-linear regression model. That is a valid and worthwhile exercise for many possible reasons, but in ML efforts, often just getting the best generalizably predictive model is the goal. For this kind of data, Flexible models that do not assume any specific functional form like parametric regressions are often useful. I'll give you a quick preview of Gradient Boosted Trees."
   ]
  },
  {
   "cell_type": "markdown",
   "id": "624852b2",
   "metadata": {
    "slideshow": {
     "slide_type": "subslide"
    }
   },
   "source": [
    "### Gradient Boosted Trees - Regression"
   ]
  },
  {
   "cell_type": "code",
   "execution_count": 14,
   "id": "1fafe36a",
   "metadata": {
    "slideshow": {
     "slide_type": "subslide"
    }
   },
   "outputs": [
    {
     "name": "stdout",
     "output_type": "stream",
     "text": [
      "train_score=0.996143954790508\n",
      "cross_val_scores=[0.8972085037367823, 0.875276253034393, 0.8465547613438578, 0.8594127343638207, 0.8900185512399297]\n",
      "mean_cross_val_scores=0.8736941607437568, stdev_cross_val_score=0.018774553026445408\n",
      "test_score=0.8656276344759002\n",
      "feature_importance=[0.0109494  0.05527311 0.32475294 0.06894345 0.02991127 0.07268246\n",
      " 0.05541417 0.11981177 0.07539622 0.01315142 0.17371379]\n"
     ]
    }
   ],
   "source": [
    "from sklearn.model_selection import RandomizedSearchCV\n",
    "from sklearn.ensemble import GradientBoostingRegressor\n",
    "gbr = GradientBoostingRegressor()\n",
    "param_distributions = {\n",
    "    'n_estimators': [i for i in range(5, 101)],\n",
    "    'max_depth': [1, 3, 5],\n",
    "    'min_samples_leaf': [1, 3, 5],\n",
    "    'learning_rate': [.01, .05, .1, .5],\n",
    "    'subsample': [0.25, 0.5, 0.75, 1]\n",
    "}\n",
    "rscv = RandomizedSearchCV(gbr, param_distributions, n_iter = 50)\n",
    "rscv.fit(X_trn_sc, y_train)\n",
    "cvgbr = CV(k=5, model = rscv.best_estimator_, random_seed = 18)\n",
    "cvgbr_cv_scores = cvgbr.fit(X_trn_sc, y_train).scores\n",
    "cvgbr_train_score = cvgbr.score(X_trn_sc, y_train)\n",
    "cvgbr_test_score = cvgbr.score(X_tst_sc, y_test)\n",
    "print(f\"train_score={cvgbr_train_score}\")\n",
    "print(f\"cross_val_scores={cvgbr_cv_scores}\")\n",
    "print(f\"mean_cross_val_scores={np.mean(cvgbr_cv_scores)}, stdev_cross_val_score={np.std(cvgbr_cv_scores)}\")\n",
    "print(f\"test_score={cvgbr_test_score}\")\n",
    "print(f\"feature_importance={cvgbr.model.feature_importances_}\")"
   ]
  },
  {
   "cell_type": "markdown",
   "id": "43f0262b",
   "metadata": {
    "slideshow": {
     "slide_type": "subslide"
    }
   },
   "source": [
    "There is clear overfitting here, and a deeper and broader hyperparameter search would likely fix that and improve the crossvalidation even further."
   ]
  },
  {
   "cell_type": "markdown",
   "id": "1d5ca210",
   "metadata": {
    "slideshow": {
     "slide_type": "slide"
    }
   },
   "source": [
    "## Logistic Regression\n",
    "\n",
    "Let's revisit the breast cancer dataset we used last lecture. We'll look at the LDA transformed feature and plot that against the target (1 = Benign. 0 = Cancerous)"
   ]
  },
  {
   "cell_type": "code",
   "execution_count": 16,
   "id": "5f2cd368",
   "metadata": {
    "slideshow": {
     "slide_type": "subslide"
    }
   },
   "outputs": [
    {
     "data": {
      "image/png": "[encoded data removed]",
      "text/plain": [
       "<Figure size 640x480 with 1 Axes>"
      ]
     },
     "metadata": {},
     "output_type": "display_data"
    }
   ],
   "source": [
    "from sklearn.datasets import load_breast_cancer\n",
    "from sklearn.discriminant_analysis import LinearDiscriminantAnalysis\n",
    "\n",
    "X, y = load_breast_cancer(return_X_y = True, as_frame=True)\n",
    "X_train, X_test, y_train, y_test = train_test_split(X, y, test_size = 0.2, random_state = 4)\n",
    "scaler = StandardScaler()\n",
    "lda = LinearDiscriminantAnalysis()\n",
    "X_train_lda = lda.fit_transform(scaler.fit_transform(X_train), y_train)\n",
    "X_test_lda = lda.transform(scaler.transform(X_test))\n",
    "sns.scatterplot(pd.DataFrame({'x': X_test_lda[:, 0], 'y': y_test}), x='x', y='y');"
   ]
  },
  {
   "cell_type": "markdown",
   "id": "25d816a1",
   "metadata": {
    "slideshow": {
     "slide_type": "fragment"
    }
   },
   "source": [
    "We could use Linear Regression to predict the target"
   ]
  },
  {
   "cell_type": "code",
   "execution_count": 17,
   "id": "0fabadfb",
   "metadata": {
    "slideshow": {
     "slide_type": "subslide"
    }
   },
   "outputs": [
    {
     "data": {
      "image/png": "[encoded data removed]",
      "text/plain": [
       "<Figure size 640x480 with 1 Axes>"
      ]
     },
     "metadata": {},
     "output_type": "display_data"
    }
   ],
   "source": [
    "reg = LinearRegression().fit(X_train_lda, y_train)\n",
    "y_pred = reg.predict(X_test_lda)\n",
    "sns.scatterplot(pd.DataFrame({'x': X_test_lda[:, 0], 'y': y_test}), x='x', y='y')\n",
    "sns.lineplot(pd.DataFrame({'x': X_test_lda[:, 0], 'y': y_pred}), x='x', y='y');"
   ]
  },
  {
   "cell_type": "code",
   "execution_count": 18,
   "id": "63e0fc5f",
   "metadata": {
    "slideshow": {
     "slide_type": "fragment"
    }
   },
   "outputs": [
    {
     "data": {
      "text/plain": [
       "0.9824561403508771"
      ]
     },
     "execution_count": 18,
     "metadata": {},
     "output_type": "execute_result"
    }
   ],
   "source": [
    "((y_pred >= 0.5)  ==  y_test).mean()"
   ]
  },
  {
   "cell_type": "markdown",
   "id": "0fa6e393",
   "metadata": {
    "slideshow": {
     "slide_type": "subslide"
    }
   },
   "source": [
    "Although it looks weird, we can simply apply a decision rule for the final prediction: \n",
    "$$\\hat y_i=\\begin{cases}\n",
    "      1, & \\text{if}\\ x_i^\\top\\hat\\beta\\geq0.5 \\\\\n",
    "      0, & \\text{if}\\ x_i^\\top\\hat\\beta<0.5\n",
    "    \\end{cases}$$"
   ]
  },
  {
   "cell_type": "markdown",
   "id": "0da355ba",
   "metadata": {
    "slideshow": {
     "slide_type": "subslide"
    }
   },
   "source": [
    "However using Logistic Regression, we can take advantage of the logistic function, which gives us a sigmoid curve smoothly ranging from 0 to 1, which yields a probability that the target is 1. That can be very valuable for classification.\n",
    "\n",
    "$$\\hat p_i = \\mathbb P[\\hat y_i = 1|x_i] = \\frac{1}{1 + e^{-x_i^\\top\\hat\\beta}}$$"
   ]
  },
  {
   "cell_type": "markdown",
   "id": "5d7abe0f",
   "metadata": {
    "slideshow": {
     "slide_type": "fragment"
    }
   },
   "source": [
    "This is done by minimizing the log loss with respect to $\\beta$\n",
    "\n",
    "$$\\hat\\beta = \\text{arg min}_\\hat\\beta = \\left(-y_i \\log \\hat p_i - (1 - y_i)\\log (1 - \\hat p_i)\\right)$$"
   ]
  },
  {
   "cell_type": "markdown",
   "id": "b1293187",
   "metadata": {
    "slideshow": {
     "slide_type": "fragment"
    }
   },
   "source": [
    "A little algebraic manipulation, gets us the logit function (log of the odds ratio) that is a linear function of $X$\n",
    "\n",
    "$$logit(\\hat p_i) = \\log\\left(\\frac{\\hat p_i}{1 - \\hat p_i}\\right) = x_i^\\top \\hat\\beta$$"
   ]
  },
  {
   "cell_type": "code",
   "execution_count": 19,
   "id": "207b9697",
   "metadata": {
    "slideshow": {
     "slide_type": "subslide"
    }
   },
   "outputs": [
    {
     "data": {
      "image/png": "[encoded data removed]",
      "text/plain": [
       "<Figure size 640x480 with 1 Axes>"
      ]
     },
     "metadata": {},
     "output_type": "display_data"
    }
   ],
   "source": [
    "from sklearn.linear_model import LogisticRegression\n",
    "clf = LogisticRegression()\n",
    "clf.fit(X_train_lda, y_train)\n",
    "y_pred = clf.predict_proba(X_test_lda)[:, 1]\n",
    "sns.scatterplot(pd.DataFrame({'x': X_test_lda[:, 0], 'y': y_test}), x='x', y='y')\n",
    "sns.lineplot(pd.DataFrame({'x': X_test_lda[:, 0], 'y': y_pred}), x='x', y='y');"
   ]
  },
  {
   "cell_type": "code",
   "execution_count": 21,
   "id": "0b09f69b",
   "metadata": {
    "slideshow": {
     "slide_type": "fragment"
    }
   },
   "outputs": [
    {
     "data": {
      "text/plain": [
       "0.9824561403508771"
      ]
     },
     "execution_count": 21,
     "metadata": {},
     "output_type": "execute_result"
    }
   ],
   "source": [
    "clf.score(X_test_lda, y_test)"
   ]
  },
  {
   "cell_type": "markdown",
   "id": "616e4138",
   "metadata": {
    "slideshow": {
     "slide_type": "slide"
    }
   },
   "source": [
    "## Gradient Descent\n",
    "- Gradient Descent is an EXTREMELY important algorithm used to fit a model to data\n",
    "- It does this by computing the gradient of a loss function, with respect to learnable parameters\n",
    "- It then uses that to iteratively step along the loss function in hopes of converging on the global minimum"
   ]
  },
  {
   "cell_type": "markdown",
   "id": "672d8ad2",
   "metadata": {
    "slideshow": {
     "slide_type": "subslide"
    }
   },
   "source": [
    "### Loss Function\n",
    "- A loss function is a function that measures how badly a model fits the data\n",
    "- The greater the loss function, the worse the model\n",
    "- We want to minimize the value of this function by changing parameters\n",
    "- The choice of this function can have major impacts on your model's performance\n",
    "- One common function for regression problems is RSS\n",
    "- For binary classification, binary cross entropy or logloss are common as well"
   ]
  },
  {
   "cell_type": "markdown",
   "id": "d176a484",
   "metadata": {
    "slideshow": {
     "slide_type": "slide"
    }
   },
   "source": [
    "### Gradients\n",
    "\n",
    "- A gradient is a vector of partial derivatives\n",
    "- At the global minimum of a function, it's gradient should be a vector of 0's\n",
    "- However, if there are local minima, the gradient will be all zeros there as well, that is a problem we might need to strategize for\n",
    "- In our case, we compute the gradient with respect to LEARNABLE PARAMETERS, all other \"variables\" are treated as constants"
   ]
  },
  {
   "cell_type": "markdown",
   "id": "d497c497",
   "metadata": {
    "slideshow": {
     "slide_type": "fragment"
    }
   },
   "source": [
    "### Gradient Example\n",
    "\n",
    "- $RSS = \\| X\\beta - y\\|^2_2 = \\sum_i \\left(x_i^\\top \\beta - y_i \\right)^2 $\n",
    "- $\\nabla RSS = \\sum_i 2x_i\\left(x_i^\\top \\beta - y_i \\right)$\n"
   ]
  },
  {
   "cell_type": "markdown",
   "id": "35a597e4",
   "metadata": {},
   "source": [
    "### Gradient Descent Steps\n",
    "1. Initialize value of parameters\n",
    "2. Compute gradient of Loss function with respect to those parameters for those parameter values\n",
    "3. Decrement the value of betas by the product of the gradient and the learning rate"
   ]
  },
  {
   "cell_type": "markdown",
   "id": "ff07fc47",
   "metadata": {},
   "source": [
    "Let's look at a Linear Regression case with 1 feature that is centered so we only have to predict a single parameter (no constant parameter)"
   ]
  },
  {
   "cell_type": "code",
   "execution_count": 6,
   "id": "73fda84a",
   "metadata": {
    "slideshow": {
     "slide_type": "subslide"
    }
   },
   "outputs": [
    {
     "data": {
      "text/plain": [
       "Text(0, 0.5, 'y')"
      ]
     },
     "execution_count": 6,
     "metadata": {},
     "output_type": "execute_result"
    },
    {
     "data": {
      "image/png": "[encoded data removed]",
      "text/plain": [
       "<Figure size 640x480 with 1 Axes>"
      ]
     },
     "metadata": {},
     "output_type": "display_data"
    }
   ],
   "source": [
    "from sklearn.decomposition import PCA\n",
    "df = pd.DataFrame(datasets.macrodata.load().data)\n",
    "x, y = df[['tbilrate']], df[['unemp']]\n",
    "x, y = StandardScaler().fit_transform(x), StandardScaler().fit_transform(y)[:,0]\n",
    "plt.scatter(x, y)\n",
    "plt.xlabel('x')\n",
    "plt.ylabel('y')"
   ]
  },
  {
   "cell_type": "code",
   "execution_count": 7,
   "id": "25bacc4a",
   "metadata": {
    "slideshow": {
     "slide_type": "fragment"
    }
   },
   "outputs": [
    {
     "data": {
      "text/plain": [
       "0.2299689971007087"
      ]
     },
     "execution_count": 7,
     "metadata": {},
     "output_type": "execute_result"
    }
   ],
   "source": [
    "LinearRegression(fit_intercept = False).fit(x, y).coef_[0]"
   ]
  },
  {
   "cell_type": "code",
   "execution_count": 8,
   "id": "264db959",
   "metadata": {},
   "outputs": [
    {
     "data": {
      "text/plain": [
       "Text(0, 0.5, 'RSS')"
      ]
     },
     "execution_count": 8,
     "metadata": {},
     "output_type": "execute_result"
    },
    {
     "data": {
      "image/png": "[encoded data removed]",
      "text/plain": [
       "<Figure size 640x480 with 1 Axes>"
      ]
     },
     "metadata": {},
     "output_type": "display_data"
    }
   ],
   "source": [
    "betas = np.linspace(0, 0.5, 50)\n",
    "rss = ((betas.reshape(-1, 1) @ x.T - y)**2).sum(axis = 1)\n",
    "plt.plot(betas, rss)\n",
    "plt.xlabel('beta')\n",
    "plt.ylabel('RSS')"
   ]
  },
  {
   "cell_type": "code",
   "execution_count": 23,
   "id": "54e10379",
   "metadata": {
    "slideshow": {
     "slide_type": "subslide"
    }
   },
   "outputs": [
    {
     "name": "stdout",
     "output_type": "stream",
     "text": [
      "beta=0.2314456488329987\n"
     ]
    },
    {
     "data": {
      "image/png": "[encoded data removed]",
      "text/plain": [
       "<Figure size 1500x500 with 2 Axes>"
      ]
     },
     "metadata": {},
     "output_type": "display_data"
    }
   ],
   "source": [
    "lr = 0.001\n",
    "max_epochs = 10\n",
    "\n",
    "beta = 0.5\n",
    "bs, ls = [beta], [(([beta] @ x.T - y)**2).sum()]\n",
    "for _ in range(max_epochs):\n",
    "    grad = (2 * x.reshape(-1) * (beta * x.T - y)).sum(axis = 1)\n",
    "    beta -= lr * grad[0]\n",
    "    bs.append(beta)\n",
    "    ls.append((([beta] @ x.T - y)**2).sum())\n",
    "fig, (ax1, ax2) = plt.subplots(1, 2, figsize = [15, 5], sharey = True)\n",
    "ax1.plot(betas, rss)\n",
    "ax1.scatter(bs, ls, color =\"orange\")\n",
    "ax1.plot(bs, ls, linestyle = \"dashed\")\n",
    "ax1.set(xlabel='beta', ylabel='RSS', title= 'Gradient Descent Path')\n",
    "ax2.plot(np.arange(len(ls)), ls)\n",
    "ax2.scatter(np.arange(len(ls)), ls)\n",
    "ax2.set(xlabel = 'epochs', title = 'Loss by Epoch')\n",
    "print(f\"beta={beta}\")"
   ]
  },
  {
   "cell_type": "code",
   "execution_count": null,
   "id": "9cbad13a",
   "metadata": {},
   "outputs": [],
   "source": []
  }
 ],
 "metadata": {
  "celltoolbar": "Slideshow",
  "kernelspec": {
   "display_name": "Python 3 (ipykernel)",
   "language": "python",
   "name": "python3"
  },
  "language_info": {
   "codemirror_mode": {
    "name": "ipython",
    "version": 3
   },
   "file_extension": ".py",
   "mimetype": "text/x-python",
   "name": "python",
   "nbconvert_exporter": "python",
   "pygments_lexer": "ipython3",
   "version": "3.9.13"
  }
 },
 "nbformat": 4,
 "nbformat_minor": 5
}
